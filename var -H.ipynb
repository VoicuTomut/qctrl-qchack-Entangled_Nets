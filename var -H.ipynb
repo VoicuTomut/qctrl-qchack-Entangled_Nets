{
 "cells": [
  {
   "cell_type": "code",
   "execution_count": 1,
   "id": "f381771c",
   "metadata": {},
   "outputs": [],
   "source": [
    "import matplotlib.pyplot as plt\n",
    "import numpy as np\n",
    "import scipy.optimize\n",
    "\n",
    "from qctrlvisualizer import get_qctrl_style, plot_controls\n",
    "from qctrl import Qctrl\n",
    "\n",
    "qctrl = Qctrl()\n",
    "\n",
    "\n",
    "qctrl = Qctrl(email='tomutvoicuandrei@gmail.com', password='QcH@ck2021!')"
   ]
  },
  {
   "cell_type": "code",
   "execution_count": 2,
   "id": "24faaaba",
   "metadata": {},
   "outputs": [],
   "source": [
    "# first let's try to creat one good NOT gate "
   ]
  },
  {
   "cell_type": "code",
   "execution_count": 3,
   "id": "507e8924",
   "metadata": {},
   "outputs": [],
   "source": [
    "from scipy import signal"
   ]
  },
  {
   "cell_type": "code",
   "execution_count": 100,
   "id": "6fb7b85f",
   "metadata": {},
   "outputs": [],
   "source": [
    "# Cloud qubit \n",
    "\n",
    "control_count = 5   # how manny controls we create \n",
    "segment_count = 17  # how many segments each pulse is split into \n",
    "duration = 40.0     # duration in ns of eatch pulse\n",
    "shot_count = 200     # how many projective measurements we take at the end of eatch control \n",
    "\n"
   ]
  },
  {
   "cell_type": "code",
   "execution_count": 101,
   "id": "dec1dd91",
   "metadata": {},
   "outputs": [],
   "source": [
    "def gaussian_pulse(t, mean, width):\n",
    "        return np.exp(-0.5 * ((t - mean) / width) ** 2.0) * np.sqrt(\n",
    "            0.5 * np.pi / width ** 2.0)"
   ]
  },
  {
   "cell_type": "code",
   "execution_count": 102,
   "id": "fd6c8556",
   "metadata": {},
   "outputs": [],
   "source": [
    "def get_pulse(mean,width,segment_count):\n",
    "    pulse=[]\n",
    "    for i in range(0,segment_count):\n",
    "        p=gaussian_pulse(t=i*segmentsize+segmentsize/2, mean=duration/2, width=width)\n",
    "        pulse.append(p)\n",
    "    return pulse "
   ]
  },
  {
   "cell_type": "code",
   "execution_count": 103,
   "id": "5c24e36b",
   "metadata": {},
   "outputs": [
    {
     "data": {
      "text/plain": [
       "[<matplotlib.lines.Line2D at 0x7ff679224710>]"
      ]
     },
     "execution_count": 103,
     "metadata": {},
     "output_type": "execute_result"
    },
    {
     "data": {
      "image/png": "[encoded data removed]",
      "text/plain": [
       "<Figure size 432x288 with 1 Axes>"
      ]
     },
     "metadata": {
      "needs_background": "light"
     },
     "output_type": "display_data"
    }
   ],
   "source": [
    "#initial parameters\n",
    "segment_count=400\n",
    "width=duration/4\n",
    "mean=duration/2\n",
    "segmentsize=duration/segment_count\n",
    "amplitude=0.5\n",
    "\n",
    "pulse=get_pulse(mean,width,segment_count)\n",
    "plt.plot(pulse)"
   ]
  },
  {
   "cell_type": "code",
   "execution_count": 104,
   "id": "d6879cb1",
   "metadata": {},
   "outputs": [],
   "source": [
    "control = []\n",
    "real_part = pulse#np.random.random(size=[segment_count])\n",
    "imag_part = np.random.random(size=[segment_count])\n",
    "values = amplitude * (real_part + 1j * imag_part*0)\n",
    "control.append({\"duration\": duration, \"values\": values})"
   ]
  },
  {
   "cell_type": "code",
   "execution_count": 105,
   "id": "5c2d0098",
   "metadata": {},
   "outputs": [
    {
     "data": {
      "image/png": "[encoded data removed]",
      "text/plain": [
       "<Figure size 504x288 with 2 Axes>"
      ]
     },
     "metadata": {
      "needs_background": "light"
     },
     "output_type": "display_data"
    }
   ],
   "source": [
    "# Plot the last control as an example.\n",
    "plot_controls(\n",
    "    figure=plt.figure(),\n",
    "    controls={\n",
    "        \"$\\Omega$\": [\n",
    "            {\"duration\": duration / segment_count, \"value\": value} for value in values\n",
    "        ]\n",
    "    },\n",
    ")"
   ]
  },
  {
   "cell_type": "code",
   "execution_count": 106,
   "id": "2062841c",
   "metadata": {},
   "outputs": [],
   "source": [
    "def cost_h(params):\n",
    "    \n",
    "    print('params:',params)\n",
    "    amplitude=params[0]\n",
    "    width=params[1]\n",
    "        \n",
    "    #\n",
    "    mean=duration/2\n",
    "    \n",
    "    #\n",
    "    \n",
    "    segmentsize=duration/segment_count\n",
    "    \n",
    "    pulse_real=get_pulse(mean,width,segment_count)\n",
    "    \n",
    "    real_part = pulse_real\n",
    "    imag_part = np.random.random(size=[segment_count])# if first experiments it will be set to 0\n",
    "    \n",
    "    values = amplitude * (real_part + 1j * imag_part*0)\n",
    "    \n",
    "    repetitions=[1,2,3,4,5,6,7,8,9,10,11,12,13,14,15,16,17,18,19,20]\n",
    "    controls=[]\n",
    "    for repetition_count in repetitions:\n",
    "        controls.append({\"duration\": duration, \"values\": values, \"repetition_count\": repetition_count})\n",
    "        experiment_results = qctrl.functions.calculate_qchack_measurements(controls=controls,shot_count=shot_count,)\n",
    "\n",
    "\n",
    "    cost=0\n",
    "    for repetition_count, measurement_counts in zip(repetitions, experiment_results.measurements):\n",
    "        p0 = measurement_counts.count(0) / shot_count\n",
    "        p1 = measurement_counts.count(1) / shot_count\n",
    "        p2 = measurement_counts.count(2) / shot_count\n",
    "        y_genrate=[p0,p1,p2]\n",
    "        if  repetition_count%2==1:\n",
    "            y_desire=[0.5,0.5,0]\n",
    "            c=np.array(y_desire) @ np.array(y_genrate)\n",
    "            cost=cost-c\n",
    "        else:\n",
    "            y_desire=[1,0,0]\n",
    "            c=np.array(y_desire) @ np.array(y_genrate)\n",
    "            cost=cost-c\n",
    "\n",
    "        print(f\"With {repetition_count:2d} repetitions: P(|0>) = {p0:.2f}, P(|1>) = {p1:.2f}, P(|2>) = {p2:.2f} ,c={c:.3f} .\")\n",
    "    \n",
    "    print('Cost:',cost)\n",
    "    return cost "
   ]
  },
  {
   "cell_type": "code",
   "execution_count": 107,
   "id": "d09eab41",
   "metadata": {},
   "outputs": [],
   "source": [
    "segment_count=250 \n",
    "width=25\n",
    "mean=duration/2\n",
    "segmentsize=duration/segment_count\n",
    "amplitude=6\n",
    "duration = 40\n",
    "\n",
    "init_params=[ 4.03658917 ,28.45216669]#[ 3.95455002, 26.37698498]#[ 3.95450088, 26.25199421]#[ 3.95455478, 25.25190998]#[3.96693201, 24.50168063]"
   ]
  },
  {
   "cell_type": "code",
   "execution_count": 108,
   "id": "4807761b",
   "metadata": {},
   "outputs": [
    {
     "name": "stdout",
     "output_type": "stream",
     "text": [
      "params: [4.03658917, 28.45216669]\n"
     ]
    },
    {
     "name": "stderr",
     "output_type": "stream",
     "text": [
      "100%|██████████| 100/100 [00:03<00:00, 31.83it/s]\n",
      "100%|██████████| 100/100 [00:03<00:00, 31.70it/s]\n",
      "100%|██████████| 100/100 [00:03<00:00, 31.81it/s]\n",
      "100%|██████████| 100/100 [00:03<00:00, 31.78it/s]\n",
      "100%|██████████| 100/100 [00:03<00:00, 31.60it/s]\n",
      "100%|██████████| 100/100 [00:03<00:00, 31.64it/s]\n",
      "100%|██████████| 100/100 [00:03<00:00, 31.63it/s]\n",
      "100%|██████████| 100/100 [00:03<00:00, 31.63it/s]\n",
      "100%|██████████| 100/100 [00:03<00:00, 31.66it/s]\n",
      "100%|██████████| 100/100 [00:03<00:00, 31.61it/s]\n",
      "100%|██████████| 100/100 [00:03<00:00, 29.93it/s]\n",
      "100%|██████████| 100/100 [00:03<00:00, 31.59it/s]\n",
      "100%|██████████| 100/100 [00:03<00:00, 32.04it/s]\n",
      "100%|██████████| 100/100 [00:03<00:00, 32.05it/s]\n",
      "100%|██████████| 100/100 [00:03<00:00, 30.46it/s]\n",
      "100%|██████████| 100/100 [00:03<00:00, 32.28it/s]\n",
      "100%|██████████| 100/100 [00:03<00:00, 31.14it/s]\n",
      "100%|██████████| 100/100 [00:03<00:00, 31.64it/s]\n",
      "100%|██████████| 100/100 [00:03<00:00, 32.05it/s]\n",
      "100%|██████████| 100/100 [00:10<00:00, 10.00it/s]"
     ]
    },
    {
     "name": "stdout",
     "output_type": "stream",
     "text": [
      "With  1 repetitions: P(|0>) = 0.49, P(|1>) = 0.51, P(|2>) = 0.00 ,c=0.500 .\n",
      "With  2 repetitions: P(|0>) = 0.99, P(|1>) = 0.01, P(|2>) = 0.00 ,c=0.995 .\n",
      "With  3 repetitions: P(|0>) = 0.54, P(|1>) = 0.46, P(|2>) = 0.00 ,c=0.500 .\n",
      "With  4 repetitions: P(|0>) = 0.99, P(|1>) = 0.01, P(|2>) = 0.00 ,c=0.990 .\n",
      "With  5 repetitions: P(|0>) = 0.54, P(|1>) = 0.46, P(|2>) = 0.00 ,c=0.500 .\n",
      "With  6 repetitions: P(|0>) = 0.98, P(|1>) = 0.01, P(|2>) = 0.00 ,c=0.985 .\n",
      "With  7 repetitions: P(|0>) = 0.53, P(|1>) = 0.47, P(|2>) = 0.00 ,c=0.500 .\n",
      "With  8 repetitions: P(|0>) = 0.99, P(|1>) = 0.01, P(|2>) = 0.00 ,c=0.990 .\n",
      "With  9 repetitions: P(|0>) = 0.60, P(|1>) = 0.40, P(|2>) = 0.00 ,c=0.500 .\n",
      "With 10 repetitions: P(|0>) = 0.98, P(|1>) = 0.01, P(|2>) = 0.00 ,c=0.985 .\n",
      "With 11 repetitions: P(|0>) = 0.59, P(|1>) = 0.41, P(|2>) = 0.00 ,c=0.500 .\n",
      "With 12 repetitions: P(|0>) = 0.99, P(|1>) = 0.01, P(|2>) = 0.00 ,c=0.990 .\n",
      "With 13 repetitions: P(|0>) = 0.55, P(|1>) = 0.46, P(|2>) = 0.00 ,c=0.500 .\n",
      "With 14 repetitions: P(|0>) = 0.98, P(|1>) = 0.02, P(|2>) = 0.00 ,c=0.980 .\n",
      "With 15 repetitions: P(|0>) = 0.51, P(|1>) = 0.49, P(|2>) = 0.00 ,c=0.500 .\n",
      "With 16 repetitions: P(|0>) = 0.95, P(|1>) = 0.04, P(|2>) = 0.00 ,c=0.955 .\n",
      "With 17 repetitions: P(|0>) = 0.52, P(|1>) = 0.48, P(|2>) = 0.00 ,c=0.500 .\n",
      "With 18 repetitions: P(|0>) = 0.98, P(|1>) = 0.01, P(|2>) = 0.00 ,c=0.985 .\n",
      "With 19 repetitions: P(|0>) = 0.59, P(|1>) = 0.41, P(|2>) = 0.00 ,c=0.500 .\n",
      "With 20 repetitions: P(|0>) = 0.98, P(|1>) = 0.01, P(|2>) = 0.00 ,c=0.985 .\n",
      "Cost: -14.84\n"
     ]
    },
    {
     "name": "stderr",
     "output_type": "stream",
     "text": [
      "\n"
     ]
    },
    {
     "data": {
      "text/plain": [
       "-14.84"
      ]
     },
     "execution_count": 108,
     "metadata": {},
     "output_type": "execute_result"
    }
   ],
   "source": [
    "cost_h(init_params)"
   ]
  },
  {
   "cell_type": "code",
   "execution_count": 109,
   "id": "bc2a6770",
   "metadata": {},
   "outputs": [
    {
     "name": "stdout",
     "output_type": "stream",
     "text": [
      "params: [ 4.03658917 28.45216669]\n"
     ]
    },
    {
     "name": "stderr",
     "output_type": "stream",
     "text": [
      "100%|██████████| 100/100 [00:03<00:00, 31.81it/s]\n",
      "100%|██████████| 100/100 [00:03<00:00, 31.76it/s]\n",
      "100%|██████████| 100/100 [00:03<00:00, 32.75it/s]\n",
      "100%|██████████| 100/100 [00:03<00:00, 29.95it/s]\n",
      "100%|██████████| 100/100 [00:03<00:00, 31.73it/s]\n",
      "100%|██████████| 100/100 [00:03<00:00, 31.72it/s]\n",
      "100%|██████████| 100/100 [00:03<00:00, 31.88it/s]\n",
      "100%|██████████| 100/100 [00:03<00:00, 29.86it/s]\n",
      "100%|██████████| 100/100 [00:03<00:00, 31.66it/s]\n",
      "100%|██████████| 100/100 [00:03<00:00, 31.63it/s]\n",
      "100%|██████████| 100/100 [00:03<00:00, 32.30it/s]\n",
      "100%|██████████| 100/100 [00:03<00:00, 31.67it/s]\n",
      "100%|██████████| 100/100 [00:03<00:00, 31.75it/s]\n",
      "100%|██████████| 100/100 [00:03<00:00, 27.16it/s]\n",
      "100%|██████████| 100/100 [00:06<00:00, 16.13it/s]\n",
      "100%|██████████| 100/100 [00:03<00:00, 32.29it/s]\n",
      "100%|██████████| 100/100 [00:03<00:00, 27.09it/s]\n",
      "100%|██████████| 100/100 [00:03<00:00, 31.61it/s]\n",
      "100%|██████████| 100/100 [00:03<00:00, 31.82it/s]\n",
      "100%|██████████| 100/100 [00:03<00:00, 31.40it/s]\n"
     ]
    },
    {
     "name": "stdout",
     "output_type": "stream",
     "text": [
      "With  1 repetitions: P(|0>) = 0.59, P(|1>) = 0.41, P(|2>) = 0.00 ,c=0.500 .\n",
      "With  2 repetitions: P(|0>) = 0.99, P(|1>) = 0.01, P(|2>) = 0.00 ,c=0.990 .\n",
      "With  3 repetitions: P(|0>) = 0.60, P(|1>) = 0.40, P(|2>) = 0.00 ,c=0.500 .\n",
      "With  4 repetitions: P(|0>) = 0.99, P(|1>) = 0.01, P(|2>) = 0.00 ,c=0.990 .\n",
      "With  5 repetitions: P(|0>) = 0.59, P(|1>) = 0.41, P(|2>) = 0.00 ,c=0.500 .\n",
      "With  6 repetitions: P(|0>) = 0.99, P(|1>) = 0.01, P(|2>) = 0.00 ,c=0.995 .\n",
      "With  7 repetitions: P(|0>) = 0.54, P(|1>) = 0.47, P(|2>) = 0.00 ,c=0.500 .\n",
      "With  8 repetitions: P(|0>) = 1.00, P(|1>) = 0.00, P(|2>) = 0.00 ,c=1.000 .\n",
      "With  9 repetitions: P(|0>) = 0.52, P(|1>) = 0.48, P(|2>) = 0.00 ,c=0.500 .\n",
      "With 10 repetitions: P(|0>) = 0.99, P(|1>) = 0.01, P(|2>) = 0.00 ,c=0.990 .\n",
      "With 11 repetitions: P(|0>) = 0.47, P(|1>) = 0.53, P(|2>) = 0.00 ,c=0.500 .\n",
      "With 12 repetitions: P(|0>) = 0.99, P(|1>) = 0.01, P(|2>) = 0.00 ,c=0.990 .\n",
      "With 13 repetitions: P(|0>) = 0.68, P(|1>) = 0.33, P(|2>) = 0.00 ,c=0.500 .\n",
      "With 14 repetitions: P(|0>) = 0.98, P(|1>) = 0.01, P(|2>) = 0.00 ,c=0.985 .\n",
      "With 15 repetitions: P(|0>) = 0.58, P(|1>) = 0.41, P(|2>) = 0.00 ,c=0.500 .\n",
      "With 16 repetitions: P(|0>) = 0.99, P(|1>) = 0.01, P(|2>) = 0.00 ,c=0.995 .\n",
      "With 17 repetitions: P(|0>) = 0.58, P(|1>) = 0.41, P(|2>) = 0.00 ,c=0.500 .\n",
      "With 18 repetitions: P(|0>) = 1.00, P(|1>) = 0.00, P(|2>) = 0.00 ,c=1.000 .\n",
      "With 19 repetitions: P(|0>) = 0.64, P(|1>) = 0.36, P(|2>) = 0.00 ,c=0.500 .\n",
      "With 20 repetitions: P(|0>) = 0.98, P(|1>) = 0.02, P(|2>) = 0.00 ,c=0.980 .\n",
      "Cost: -14.915\n",
      "params: [ 5.03658917 28.45216669]\n"
     ]
    },
    {
     "name": "stderr",
     "output_type": "stream",
     "text": [
      "100%|██████████| 100/100 [00:06<00:00, 15.91it/s]\n",
      "100%|██████████| 100/100 [00:03<00:00, 30.01it/s]\n",
      "100%|██████████| 100/100 [00:03<00:00, 31.78it/s]\n",
      "100%|██████████| 100/100 [00:03<00:00, 27.19it/s]\n",
      "100%|██████████| 100/100 [00:03<00:00, 31.71it/s]\n",
      "100%|██████████| 100/100 [00:03<00:00, 31.69it/s]\n",
      "100%|██████████| 100/100 [00:03<00:00, 31.67it/s]\n",
      "100%|██████████| 100/100 [00:03<00:00, 31.53it/s]\n",
      "100%|██████████| 100/100 [00:03<00:00, 31.55it/s]\n",
      "100%|██████████| 100/100 [00:06<00:00, 14.64it/s]\n",
      "100%|██████████| 100/100 [00:03<00:00, 31.59it/s]\n",
      "100%|██████████| 100/100 [00:03<00:00, 31.57it/s]\n",
      "100%|██████████| 100/100 [00:03<00:00, 32.09it/s]\n",
      "100%|██████████| 100/100 [00:03<00:00, 31.92it/s]\n",
      "100%|██████████| 100/100 [00:03<00:00, 31.52it/s]\n",
      "100%|██████████| 100/100 [00:03<00:00, 32.46it/s]\n",
      "100%|██████████| 100/100 [00:03<00:00, 32.05it/s]\n",
      "100%|██████████| 100/100 [00:03<00:00, 31.66it/s]\n",
      "100%|██████████| 100/100 [00:03<00:00, 31.63it/s]\n",
      "100%|██████████| 100/100 [00:03<00:00, 32.40it/s]\n"
     ]
    },
    {
     "name": "stdout",
     "output_type": "stream",
     "text": [
      "With  1 repetitions: P(|0>) = 0.46, P(|1>) = 0.54, P(|2>) = 0.00 ,c=0.500 .\n",
      "With  2 repetitions: P(|0>) = 0.92, P(|1>) = 0.08, P(|2>) = 0.00 ,c=0.920 .\n",
      "With  3 repetitions: P(|0>) = 0.59, P(|1>) = 0.41, P(|2>) = 0.00 ,c=0.500 .\n",
      "With  4 repetitions: P(|0>) = 0.75, P(|1>) = 0.25, P(|2>) = 0.00 ,c=0.750 .\n",
      "With  5 repetitions: P(|0>) = 0.76, P(|1>) = 0.24, P(|2>) = 0.00 ,c=0.500 .\n",
      "With  6 repetitions: P(|0>) = 0.57, P(|1>) = 0.43, P(|2>) = 0.00 ,c=0.570 .\n",
      "With  7 repetitions: P(|0>) = 0.94, P(|1>) = 0.06, P(|2>) = 0.00 ,c=0.500 .\n",
      "With  8 repetitions: P(|0>) = 0.45, P(|1>) = 0.55, P(|2>) = 0.00 ,c=0.450 .\n",
      "With  9 repetitions: P(|0>) = 0.98, P(|1>) = 0.02, P(|2>) = 0.00 ,c=0.500 .\n",
      "With 10 repetitions: P(|0>) = 0.51, P(|1>) = 0.49, P(|2>) = 0.00 ,c=0.505 .\n",
      "With 11 repetitions: P(|0>) = 0.88, P(|1>) = 0.12, P(|2>) = 0.00 ,c=0.500 .\n",
      "With 12 repetitions: P(|0>) = 0.68, P(|1>) = 0.33, P(|2>) = 0.00 ,c=0.675 .\n",
      "With 13 repetitions: P(|0>) = 0.68, P(|1>) = 0.32, P(|2>) = 0.00 ,c=0.500 .\n",
      "With 14 repetitions: P(|0>) = 0.86, P(|1>) = 0.14, P(|2>) = 0.00 ,c=0.860 .\n",
      "With 15 repetitions: P(|0>) = 0.54, P(|1>) = 0.47, P(|2>) = 0.00 ,c=0.500 .\n",
      "With 16 repetitions: P(|0>) = 0.98, P(|1>) = 0.01, P(|2>) = 0.00 ,c=0.985 .\n",
      "With 17 repetitions: P(|0>) = 0.51, P(|1>) = 0.49, P(|2>) = 0.00 ,c=0.500 .\n",
      "With 18 repetitions: P(|0>) = 0.97, P(|1>) = 0.03, P(|2>) = 0.00 ,c=0.975 .\n",
      "With 19 repetitions: P(|0>) = 0.50, P(|1>) = 0.50, P(|2>) = 0.00 ,c=0.500 .\n",
      "With 20 repetitions: P(|0>) = 0.81, P(|1>) = 0.20, P(|2>) = 0.00 ,c=0.805 .\n",
      "Cost: -12.495\n",
      "params: [ 4.03658917 29.45216669]\n"
     ]
    },
    {
     "name": "stderr",
     "output_type": "stream",
     "text": [
      "100%|██████████| 100/100 [00:03<00:00, 31.75it/s]\n",
      "100%|██████████| 100/100 [00:03<00:00, 31.69it/s]\n",
      "100%|██████████| 100/100 [00:03<00:00, 31.71it/s]\n",
      "100%|██████████| 100/100 [00:03<00:00, 31.60it/s]\n",
      "100%|██████████| 100/100 [00:03<00:00, 31.68it/s]\n",
      "100%|██████████| 100/100 [00:03<00:00, 31.74it/s]\n",
      "100%|██████████| 100/100 [00:03<00:00, 31.68it/s]\n",
      "100%|██████████| 100/100 [00:03<00:00, 31.72it/s]\n",
      "100%|██████████| 100/100 [00:03<00:00, 31.66it/s]\n",
      "100%|██████████| 100/100 [00:03<00:00, 31.61it/s]\n",
      "100%|██████████| 100/100 [00:03<00:00, 29.81it/s]\n",
      "100%|██████████| 100/100 [00:03<00:00, 31.57it/s]\n",
      "100%|██████████| 100/100 [00:03<00:00, 31.58it/s]\n",
      "100%|██████████| 100/100 [00:03<00:00, 32.79it/s]\n",
      "100%|██████████| 100/100 [00:03<00:00, 31.57it/s]\n",
      "100%|██████████| 100/100 [00:06<00:00, 15.37it/s]\n",
      "100%|██████████| 100/100 [00:03<00:00, 31.54it/s]\n",
      "100%|██████████| 100/100 [00:13<00:00,  7.41it/s]\n",
      "100%|██████████| 100/100 [06:24<00:00,  3.85s/it]\n",
      "100%|██████████| 100/100 [00:06<00:00, 16.04it/s]\n"
     ]
    },
    {
     "name": "stdout",
     "output_type": "stream",
     "text": [
      "With  1 repetitions: P(|0>) = 0.57, P(|1>) = 0.43, P(|2>) = 0.00 ,c=0.500 .\n",
      "With  2 repetitions: P(|0>) = 0.98, P(|1>) = 0.01, P(|2>) = 0.00 ,c=0.985 .\n",
      "With  3 repetitions: P(|0>) = 0.56, P(|1>) = 0.45, P(|2>) = 0.00 ,c=0.500 .\n",
      "With  4 repetitions: P(|0>) = 0.99, P(|1>) = 0.01, P(|2>) = 0.00 ,c=0.990 .\n",
      "With  5 repetitions: P(|0>) = 0.58, P(|1>) = 0.42, P(|2>) = 0.00 ,c=0.500 .\n",
      "With  6 repetitions: P(|0>) = 0.98, P(|1>) = 0.01, P(|2>) = 0.00 ,c=0.985 .\n",
      "With  7 repetitions: P(|0>) = 0.54, P(|1>) = 0.47, P(|2>) = 0.00 ,c=0.500 .\n",
      "With  8 repetitions: P(|0>) = 0.99, P(|1>) = 0.01, P(|2>) = 0.00 ,c=0.990 .\n",
      "With  9 repetitions: P(|0>) = 0.62, P(|1>) = 0.38, P(|2>) = 0.00 ,c=0.500 .\n",
      "With 10 repetitions: P(|0>) = 0.99, P(|1>) = 0.01, P(|2>) = 0.00 ,c=0.990 .\n",
      "With 11 repetitions: P(|0>) = 0.65, P(|1>) = 0.35, P(|2>) = 0.00 ,c=0.500 .\n",
      "With 12 repetitions: P(|0>) = 0.97, P(|1>) = 0.03, P(|2>) = 0.00 ,c=0.975 .\n",
      "With 13 repetitions: P(|0>) = 0.64, P(|1>) = 0.36, P(|2>) = 0.00 ,c=0.500 .\n",
      "With 14 repetitions: P(|0>) = 0.98, P(|1>) = 0.01, P(|2>) = 0.00 ,c=0.985 .\n",
      "With 15 repetitions: P(|0>) = 0.62, P(|1>) = 0.38, P(|2>) = 0.00 ,c=0.500 .\n",
      "With 16 repetitions: P(|0>) = 0.96, P(|1>) = 0.04, P(|2>) = 0.00 ,c=0.965 .\n",
      "With 17 repetitions: P(|0>) = 0.60, P(|1>) = 0.40, P(|2>) = 0.00 ,c=0.500 .\n",
      "With 18 repetitions: P(|0>) = 0.96, P(|1>) = 0.04, P(|2>) = 0.00 ,c=0.965 .\n",
      "With 19 repetitions: P(|0>) = 0.61, P(|1>) = 0.39, P(|2>) = 0.00 ,c=0.500 .\n",
      "With 20 repetitions: P(|0>) = 0.98, P(|1>) = 0.02, P(|2>) = 0.00 ,c=0.980 .\n",
      "Cost: -14.81\n",
      "params: [ 3.03752912 28.40881904]\n"
     ]
    },
    {
     "name": "stderr",
     "output_type": "stream",
     "text": [
      "100%|██████████| 100/100 [00:03<00:00, 31.74it/s]\n",
      "100%|██████████| 100/100 [00:03<00:00, 30.01it/s]\n",
      "100%|██████████| 100/100 [00:03<00:00, 31.66it/s]\n",
      "100%|██████████| 100/100 [00:09<00:00, 10.60it/s]\n",
      "100%|██████████| 100/100 [00:03<00:00, 31.72it/s]\n",
      "100%|██████████| 100/100 [00:03<00:00, 31.72it/s]\n",
      "100%|██████████| 100/100 [00:03<00:00, 31.67it/s]\n",
      "100%|██████████| 100/100 [00:03<00:00, 31.65it/s]\n",
      "100%|██████████| 100/100 [00:03<00:00, 31.80it/s]\n",
      "100%|██████████| 100/100 [00:03<00:00, 31.50it/s]\n",
      "100%|██████████| 100/100 [00:03<00:00, 29.80it/s]\n",
      "100%|██████████| 100/100 [00:03<00:00, 31.55it/s]\n",
      "100%|██████████| 100/100 [00:03<00:00, 31.93it/s]\n",
      "100%|██████████| 100/100 [00:03<00:00, 31.94it/s]\n",
      "100%|██████████| 100/100 [00:03<00:00, 31.59it/s]\n",
      "100%|██████████| 100/100 [00:03<00:00, 31.58it/s]\n",
      "100%|██████████| 100/100 [00:03<00:00, 31.60it/s]\n",
      "100%|██████████| 100/100 [00:03<00:00, 32.71it/s]\n",
      "100%|██████████| 100/100 [00:09<00:00, 10.52it/s]\n",
      "100%|██████████| 100/100 [00:03<00:00, 32.13it/s]\n"
     ]
    },
    {
     "name": "stdout",
     "output_type": "stream",
     "text": [
      "With  1 repetitions: P(|0>) = 0.73, P(|1>) = 0.27, P(|2>) = 0.00 ,c=0.500 .\n",
      "With  2 repetitions: P(|0>) = 0.94, P(|1>) = 0.06, P(|2>) = 0.00 ,c=0.945 .\n",
      "With  3 repetitions: P(|0>) = 0.74, P(|1>) = 0.26, P(|2>) = 0.00 ,c=0.500 .\n",
      "With  4 repetitions: P(|0>) = 0.91, P(|1>) = 0.10, P(|2>) = 0.00 ,c=0.905 .\n",
      "With  5 repetitions: P(|0>) = 0.85, P(|1>) = 0.15, P(|2>) = 0.00 ,c=0.500 .\n",
      "With  6 repetitions: P(|0>) = 0.81, P(|1>) = 0.18, P(|2>) = 0.00 ,c=0.815 .\n",
      "With  7 repetitions: P(|0>) = 0.93, P(|1>) = 0.07, P(|2>) = 0.00 ,c=0.500 .\n",
      "With  8 repetitions: P(|0>) = 0.76, P(|1>) = 0.24, P(|2>) = 0.00 ,c=0.755 .\n",
      "With  9 repetitions: P(|0>) = 0.97, P(|1>) = 0.03, P(|2>) = 0.00 ,c=0.500 .\n",
      "With 10 repetitions: P(|0>) = 0.74, P(|1>) = 0.26, P(|2>) = 0.00 ,c=0.740 .\n",
      "With 11 repetitions: P(|0>) = 0.99, P(|1>) = 0.01, P(|2>) = 0.00 ,c=0.500 .\n",
      "With 12 repetitions: P(|0>) = 0.66, P(|1>) = 0.34, P(|2>) = 0.00 ,c=0.660 .\n",
      "With 13 repetitions: P(|0>) = 0.96, P(|1>) = 0.04, P(|2>) = 0.00 ,c=0.500 .\n",
      "With 14 repetitions: P(|0>) = 0.76, P(|1>) = 0.24, P(|2>) = 0.00 ,c=0.760 .\n",
      "With 15 repetitions: P(|0>) = 0.86, P(|1>) = 0.14, P(|2>) = 0.00 ,c=0.500 .\n",
      "With 16 repetitions: P(|0>) = 0.86, P(|1>) = 0.14, P(|2>) = 0.00 ,c=0.865 .\n",
      "With 17 repetitions: P(|0>) = 0.76, P(|1>) = 0.24, P(|2>) = 0.00 ,c=0.500 .\n",
      "With 18 repetitions: P(|0>) = 0.92, P(|1>) = 0.09, P(|2>) = 0.00 ,c=0.915 .\n",
      "With 19 repetitions: P(|0>) = 0.74, P(|1>) = 0.26, P(|2>) = 0.00 ,c=0.500 .\n",
      "With 20 repetitions: P(|0>) = 0.99, P(|1>) = 0.01, P(|2>) = 0.00 ,c=0.990 .\n",
      "Cost: -13.35\n",
      "params: [ 3.53705915 28.43049287]\n"
     ]
    },
    {
     "name": "stderr",
     "output_type": "stream",
     "text": [
      "100%|██████████| 100/100 [00:03<00:00, 29.94it/s]\n",
      "100%|██████████| 100/100 [00:03<00:00, 31.73it/s]\n",
      "100%|██████████| 100/100 [00:03<00:00, 31.72it/s]\n",
      "100%|██████████| 100/100 [00:03<00:00, 31.79it/s]\n",
      "100%|██████████| 100/100 [00:03<00:00, 31.67it/s]\n",
      "100%|██████████| 100/100 [00:03<00:00, 31.87it/s]\n",
      "100%|██████████| 100/100 [00:03<00:00, 31.66it/s]\n",
      "100%|██████████| 100/100 [00:03<00:00, 31.78it/s]\n",
      "100%|██████████| 100/100 [00:03<00:00, 31.96it/s]\n",
      "100%|██████████| 100/100 [00:03<00:00, 31.61it/s]\n",
      "100%|██████████| 100/100 [00:06<00:00, 15.84it/s]\n",
      "100%|██████████| 100/100 [00:09<00:00, 10.17it/s]\n",
      "100%|██████████| 100/100 [00:12<00:00,  7.82it/s]\n",
      "100%|██████████| 100/100 [00:03<00:00, 31.95it/s]\n",
      "100%|██████████| 100/100 [00:09<00:00, 10.66it/s]\n",
      "100%|██████████| 100/100 [00:09<00:00, 10.68it/s]\n",
      "100%|██████████| 100/100 [00:03<00:00, 31.62it/s]\n",
      "100%|██████████| 100/100 [00:03<00:00, 31.39it/s]\n",
      "100%|██████████| 100/100 [00:06<00:00, 15.87it/s]\n",
      "100%|██████████| 100/100 [00:03<00:00, 30.90it/s]\n"
     ]
    },
    {
     "name": "stdout",
     "output_type": "stream",
     "text": [
      "With  1 repetitions: P(|0>) = 0.60, P(|1>) = 0.40, P(|2>) = 0.00 ,c=0.500 .\n",
      "With  2 repetitions: P(|0>) = 0.97, P(|1>) = 0.03, P(|2>) = 0.00 ,c=0.975 .\n",
      "With  3 repetitions: P(|0>) = 0.65, P(|1>) = 0.35, P(|2>) = 0.00 ,c=0.500 .\n",
      "With  4 repetitions: P(|0>) = 0.94, P(|1>) = 0.07, P(|2>) = 0.00 ,c=0.935 .\n",
      "With  5 repetitions: P(|0>) = 0.63, P(|1>) = 0.37, P(|2>) = 0.00 ,c=0.500 .\n",
      "With  6 repetitions: P(|0>) = 0.95, P(|1>) = 0.04, P(|2>) = 0.00 ,c=0.955 .\n",
      "With  7 repetitions: P(|0>) = 0.69, P(|1>) = 0.31, P(|2>) = 0.00 ,c=0.500 .\n",
      "With  8 repetitions: P(|0>) = 0.88, P(|1>) = 0.12, P(|2>) = 0.00 ,c=0.875 .\n",
      "With  9 repetitions: P(|0>) = 0.74, P(|1>) = 0.26, P(|2>) = 0.00 ,c=0.500 .\n",
      "With 10 repetitions: P(|0>) = 0.81, P(|1>) = 0.19, P(|2>) = 0.00 ,c=0.810 .\n",
      "With 11 repetitions: P(|0>) = 0.80, P(|1>) = 0.20, P(|2>) = 0.00 ,c=0.500 .\n",
      "With 12 repetitions: P(|0>) = 0.72, P(|1>) = 0.28, P(|2>) = 0.00 ,c=0.720 .\n",
      "With 13 repetitions: P(|0>) = 0.89, P(|1>) = 0.11, P(|2>) = 0.00 ,c=0.500 .\n",
      "With 14 repetitions: P(|0>) = 0.72, P(|1>) = 0.28, P(|2>) = 0.00 ,c=0.725 .\n",
      "With 15 repetitions: P(|0>) = 0.93, P(|1>) = 0.07, P(|2>) = 0.00 ,c=0.500 .\n",
      "With 16 repetitions: P(|0>) = 0.62, P(|1>) = 0.38, P(|2>) = 0.00 ,c=0.625 .\n",
      "With 17 repetitions: P(|0>) = 0.95, P(|1>) = 0.05, P(|2>) = 0.00 ,c=0.500 .\n",
      "With 18 repetitions: P(|0>) = 0.62, P(|1>) = 0.38, P(|2>) = 0.00 ,c=0.625 .\n",
      "With 19 repetitions: P(|0>) = 0.98, P(|1>) = 0.02, P(|2>) = 0.00 ,c=0.500 .\n",
      "With 20 repetitions: P(|0>) = 0.63, P(|1>) = 0.37, P(|2>) = 0.00 ,c=0.630 .\n",
      "Cost: -12.875000000000002\n",
      "params: [ 4.28650676 28.44574819]\n"
     ]
    },
    {
     "name": "stderr",
     "output_type": "stream",
     "text": [
      "100%|██████████| 100/100 [00:03<00:00, 28.99it/s]\n",
      "100%|██████████| 100/100 [00:18<00:00,  5.30it/s]\n",
      "100%|██████████| 100/100 [00:03<00:00, 31.71it/s]\n",
      "100%|██████████| 100/100 [00:03<00:00, 31.60it/s]\n",
      "100%|██████████| 100/100 [00:06<00:00, 15.41it/s]\n",
      "100%|██████████| 100/100 [00:03<00:00, 27.13it/s]\n",
      "100%|██████████| 100/100 [00:06<00:00, 15.86it/s]\n",
      "100%|██████████| 100/100 [00:03<00:00, 29.78it/s]\n",
      "100%|██████████| 100/100 [00:06<00:00, 15.83it/s]\n",
      "100%|██████████| 100/100 [00:03<00:00, 32.70it/s]\n",
      "100%|██████████| 100/100 [00:28<00:00,  3.51it/s]\n",
      "100%|██████████| 100/100 [00:06<00:00, 15.37it/s]\n",
      "100%|██████████| 100/100 [00:03<00:00, 30.11it/s]\n",
      "100%|██████████| 100/100 [00:03<00:00, 31.75it/s]\n",
      "100%|██████████| 100/100 [00:06<00:00, 16.06it/s]\n",
      "100%|██████████| 100/100 [00:03<00:00, 31.58it/s]\n",
      "100%|██████████| 100/100 [00:03<00:00, 31.62it/s]\n",
      "100%|██████████| 100/100 [00:06<00:00, 15.83it/s]\n",
      "100%|██████████| 100/100 [00:06<00:00, 15.76it/s]\n",
      "100%|██████████| 100/100 [00:03<00:00, 31.39it/s]\n"
     ]
    },
    {
     "name": "stdout",
     "output_type": "stream",
     "text": [
      "With  1 repetitions: P(|0>) = 0.52, P(|1>) = 0.48, P(|2>) = 0.00 ,c=0.500 .\n",
      "With  2 repetitions: P(|0>) = 0.98, P(|1>) = 0.01, P(|2>) = 0.00 ,c=0.985 .\n",
      "With  3 repetitions: P(|0>) = 0.59, P(|1>) = 0.41, P(|2>) = 0.00 ,c=0.500 .\n",
      "With  4 repetitions: P(|0>) = 0.94, P(|1>) = 0.06, P(|2>) = 0.00 ,c=0.940 .\n",
      "With  5 repetitions: P(|0>) = 0.57, P(|1>) = 0.43, P(|2>) = 0.00 ,c=0.500 .\n",
      "With  6 repetitions: P(|0>) = 0.94, P(|1>) = 0.06, P(|2>) = 0.00 ,c=0.940 .\n",
      "With  7 repetitions: P(|0>) = 0.51, P(|1>) = 0.49, P(|2>) = 0.00 ,c=0.500 .\n",
      "With  8 repetitions: P(|0>) = 0.89, P(|1>) = 0.11, P(|2>) = 0.00 ,c=0.890 .\n",
      "With  9 repetitions: P(|0>) = 0.62, P(|1>) = 0.38, P(|2>) = 0.00 ,c=0.500 .\n",
      "With 10 repetitions: P(|0>) = 0.89, P(|1>) = 0.11, P(|2>) = 0.00 ,c=0.890 .\n",
      "With 11 repetitions: P(|0>) = 0.66, P(|1>) = 0.34, P(|2>) = 0.00 ,c=0.500 .\n",
      "With 12 repetitions: P(|0>) = 0.88, P(|1>) = 0.12, P(|2>) = 0.00 ,c=0.875 .\n",
      "With 13 repetitions: P(|0>) = 0.70, P(|1>) = 0.29, P(|2>) = 0.00 ,c=0.500 .\n",
      "With 14 repetitions: P(|0>) = 0.79, P(|1>) = 0.21, P(|2>) = 0.00 ,c=0.790 .\n",
      "With 15 repetitions: P(|0>) = 0.79, P(|1>) = 0.21, P(|2>) = 0.00 ,c=0.500 .\n",
      "With 16 repetitions: P(|0>) = 0.74, P(|1>) = 0.26, P(|2>) = 0.00 ,c=0.745 .\n",
      "With 17 repetitions: P(|0>) = 0.75, P(|1>) = 0.25, P(|2>) = 0.00 ,c=0.500 .\n",
      "With 18 repetitions: P(|0>) = 0.71, P(|1>) = 0.28, P(|2>) = 0.00 ,c=0.715 .\n",
      "With 19 repetitions: P(|0>) = 0.84, P(|1>) = 0.15, P(|2>) = 0.00 ,c=0.500 .\n",
      "With 20 repetitions: P(|0>) = 0.65, P(|1>) = 0.35, P(|2>) = 0.00 ,c=0.650 .\n",
      "Cost: -13.419999999999998\n",
      "params: [ 4.03337992 28.32720789]\n"
     ]
    },
    {
     "name": "stderr",
     "output_type": "stream",
     "text": [
      "100%|██████████| 100/100 [00:03<00:00, 31.76it/s]\n",
      "100%|██████████| 100/100 [00:03<00:00, 31.74it/s]\n",
      "100%|██████████| 100/100 [00:03<00:00, 31.74it/s]\n",
      "100%|██████████| 100/100 [00:03<00:00, 31.79it/s]\n",
      "100%|██████████| 100/100 [00:03<00:00, 31.69it/s]\n",
      "100%|██████████| 100/100 [00:03<00:00, 31.68it/s]\n",
      "100%|██████████| 100/100 [00:03<00:00, 31.73it/s]\n",
      "100%|██████████| 100/100 [00:03<00:00, 31.53it/s]\n",
      "100%|██████████| 100/100 [00:03<00:00, 30.09it/s]\n",
      "100%|██████████| 100/100 [00:03<00:00, 31.61it/s]\n",
      "100%|██████████| 100/100 [00:03<00:00, 32.04it/s]\n",
      "100%|██████████| 100/100 [00:03<00:00, 31.87it/s]\n",
      "100%|██████████| 100/100 [00:03<00:00, 32.00it/s]\n",
      "100%|██████████| 100/100 [00:28<00:00,  3.49it/s]\n",
      "100%|██████████| 100/100 [00:03<00:00, 32.01it/s]\n",
      "100%|██████████| 100/100 [00:03<00:00, 30.96it/s]\n",
      "100%|██████████| 100/100 [00:03<00:00, 31.57it/s]\n",
      "100%|██████████| 100/100 [00:03<00:00, 26.95it/s]\n",
      "100%|██████████| 100/100 [00:06<00:00, 15.64it/s]\n",
      "100%|██████████| 100/100 [00:09<00:00, 10.20it/s]\n"
     ]
    },
    {
     "name": "stdout",
     "output_type": "stream",
     "text": [
      "With  1 repetitions: P(|0>) = 0.52, P(|1>) = 0.48, P(|2>) = 0.00 ,c=0.500 .\n",
      "With  2 repetitions: P(|0>) = 1.00, P(|1>) = 0.00, P(|2>) = 0.00 ,c=1.000 .\n",
      "With  3 repetitions: P(|0>) = 0.56, P(|1>) = 0.44, P(|2>) = 0.00 ,c=0.500 .\n",
      "With  4 repetitions: P(|0>) = 0.99, P(|1>) = 0.01, P(|2>) = 0.00 ,c=0.995 .\n",
      "With  5 repetitions: P(|0>) = 0.60, P(|1>) = 0.40, P(|2>) = 0.00 ,c=0.500 .\n",
      "With  6 repetitions: P(|0>) = 0.98, P(|1>) = 0.02, P(|2>) = 0.00 ,c=0.980 .\n",
      "With  7 repetitions: P(|0>) = 0.57, P(|1>) = 0.42, P(|2>) = 0.00 ,c=0.500 .\n",
      "With  8 repetitions: P(|0>) = 0.98, P(|1>) = 0.01, P(|2>) = 0.00 ,c=0.985 .\n",
      "With  9 repetitions: P(|0>) = 0.54, P(|1>) = 0.47, P(|2>) = 0.00 ,c=0.500 .\n",
      "With 10 repetitions: P(|0>) = 0.97, P(|1>) = 0.03, P(|2>) = 0.00 ,c=0.970 .\n",
      "With 11 repetitions: P(|0>) = 0.52, P(|1>) = 0.48, P(|2>) = 0.00 ,c=0.500 .\n",
      "With 12 repetitions: P(|0>) = 0.98, P(|1>) = 0.02, P(|2>) = 0.00 ,c=0.980 .\n",
      "With 13 repetitions: P(|0>) = 0.56, P(|1>) = 0.43, P(|2>) = 0.00 ,c=0.500 .\n",
      "With 14 repetitions: P(|0>) = 0.99, P(|1>) = 0.01, P(|2>) = 0.00 ,c=0.995 .\n",
      "With 15 repetitions: P(|0>) = 0.58, P(|1>) = 0.41, P(|2>) = 0.00 ,c=0.500 .\n",
      "With 16 repetitions: P(|0>) = 0.98, P(|1>) = 0.02, P(|2>) = 0.00 ,c=0.980 .\n",
      "With 17 repetitions: P(|0>) = 0.59, P(|1>) = 0.41, P(|2>) = 0.00 ,c=0.500 .\n",
      "With 18 repetitions: P(|0>) = 0.99, P(|1>) = 0.01, P(|2>) = 0.00 ,c=0.990 .\n",
      "With 19 repetitions: P(|0>) = 0.58, P(|1>) = 0.42, P(|2>) = 0.00 ,c=0.500 .\n",
      "With 20 repetitions: P(|0>) = 1.00, P(|1>) = 0.00, P(|2>) = 0.00 ,c=1.000 .\n",
      "Cost: -14.875\n",
      "params: [ 3.78737161 28.47193043]\n"
     ]
    },
    {
     "name": "stderr",
     "output_type": "stream",
     "text": [
      "100%|██████████| 100/100 [00:03<00:00, 31.76it/s]\n",
      "100%|██████████| 100/100 [00:03<00:00, 31.74it/s]\n",
      "100%|██████████| 100/100 [00:03<00:00, 31.75it/s]\n",
      "100%|██████████| 100/100 [00:03<00:00, 29.78it/s]\n",
      "100%|██████████| 100/100 [00:06<00:00, 15.88it/s]\n",
      "100%|██████████| 100/100 [00:03<00:00, 31.72it/s]\n",
      "100%|██████████| 100/100 [00:03<00:00, 31.55it/s]\n",
      "100%|██████████| 100/100 [00:03<00:00, 31.62it/s]\n",
      "100%|██████████| 100/100 [00:03<00:00, 31.55it/s]\n",
      "100%|██████████| 100/100 [00:03<00:00, 31.62it/s]\n",
      "100%|██████████| 100/100 [00:03<00:00, 31.56it/s]\n",
      "100%|██████████| 100/100 [00:03<00:00, 31.53it/s]\n",
      "100%|██████████| 100/100 [00:03<00:00, 31.53it/s]\n",
      "100%|██████████| 100/100 [00:03<00:00, 31.73it/s]\n",
      "100%|██████████| 100/100 [00:22<00:00,  4.45it/s]\n",
      "100%|██████████| 100/100 [00:03<00:00, 32.69it/s]\n",
      "100%|██████████| 100/100 [00:16<00:00,  6.12it/s]\n",
      "100%|██████████| 100/100 [00:03<00:00, 30.96it/s]\n",
      "100%|██████████| 100/100 [00:13<00:00,  7.66it/s]\n",
      "100%|██████████| 100/100 [00:03<00:00, 31.63it/s]\n"
     ]
    },
    {
     "name": "stdout",
     "output_type": "stream",
     "text": [
      "With  1 repetitions: P(|0>) = 0.57, P(|1>) = 0.42, P(|2>) = 0.00 ,c=0.500 .\n",
      "With  2 repetitions: P(|0>) = 0.99, P(|1>) = 0.01, P(|2>) = 0.00 ,c=0.995 .\n",
      "With  3 repetitions: P(|0>) = 0.61, P(|1>) = 0.39, P(|2>) = 0.00 ,c=0.500 .\n",
      "With  4 repetitions: P(|0>) = 0.99, P(|1>) = 0.01, P(|2>) = 0.00 ,c=0.990 .\n",
      "With  5 repetitions: P(|0>) = 0.57, P(|1>) = 0.42, P(|2>) = 0.00 ,c=0.500 .\n",
      "With  6 repetitions: P(|0>) = 0.97, P(|1>) = 0.03, P(|2>) = 0.00 ,c=0.970 .\n",
      "With  7 repetitions: P(|0>) = 0.68, P(|1>) = 0.32, P(|2>) = 0.00 ,c=0.500 .\n",
      "With  8 repetitions: P(|0>) = 0.96, P(|1>) = 0.04, P(|2>) = 0.00 ,c=0.965 .\n",
      "With  9 repetitions: P(|0>) = 0.64, P(|1>) = 0.36, P(|2>) = 0.00 ,c=0.500 .\n",
      "With 10 repetitions: P(|0>) = 0.93, P(|1>) = 0.07, P(|2>) = 0.00 ,c=0.925 .\n",
      "With 11 repetitions: P(|0>) = 0.68, P(|1>) = 0.33, P(|2>) = 0.00 ,c=0.500 .\n",
      "With 12 repetitions: P(|0>) = 0.92, P(|1>) = 0.08, P(|2>) = 0.00 ,c=0.920 .\n",
      "With 13 repetitions: P(|0>) = 0.69, P(|1>) = 0.32, P(|2>) = 0.00 ,c=0.500 .\n",
      "With 14 repetitions: P(|0>) = 0.89, P(|1>) = 0.11, P(|2>) = 0.00 ,c=0.890 .\n",
      "With 15 repetitions: P(|0>) = 0.61, P(|1>) = 0.39, P(|2>) = 0.00 ,c=0.500 .\n",
      "With 16 repetitions: P(|0>) = 0.88, P(|1>) = 0.12, P(|2>) = 0.00 ,c=0.880 .\n",
      "With 17 repetitions: P(|0>) = 0.70, P(|1>) = 0.29, P(|2>) = 0.00 ,c=0.500 .\n",
      "With 18 repetitions: P(|0>) = 0.85, P(|1>) = 0.15, P(|2>) = 0.00 ,c=0.850 .\n",
      "With 19 repetitions: P(|0>) = 0.73, P(|1>) = 0.27, P(|2>) = 0.00 ,c=0.500 .\n",
      "With 20 repetitions: P(|0>) = 0.83, P(|1>) = 0.17, P(|2>) = 0.00 ,c=0.835 .\n",
      "Cost: -14.220000000000002\n",
      "params: [ 3.91198039 28.46204856]\n"
     ]
    },
    {
     "name": "stderr",
     "output_type": "stream",
     "text": [
      "100%|██████████| 100/100 [00:03<00:00, 31.80it/s]\n",
      "100%|██████████| 100/100 [00:03<00:00, 31.74it/s]\n",
      "100%|██████████| 100/100 [00:03<00:00, 31.70it/s]\n",
      "100%|██████████| 100/100 [00:03<00:00, 31.76it/s]\n",
      "100%|██████████| 100/100 [00:03<00:00, 31.73it/s]\n",
      "100%|██████████| 100/100 [00:06<00:00, 15.92it/s]\n",
      "100%|██████████| 100/100 [00:03<00:00, 31.71it/s]\n",
      "100%|██████████| 100/100 [00:03<00:00, 28.30it/s]\n",
      "100%|██████████| 100/100 [00:03<00:00, 31.59it/s]\n",
      "100%|██████████| 100/100 [00:03<00:00, 31.57it/s]\n",
      "100%|██████████| 100/100 [00:03<00:00, 31.49it/s]\n",
      "100%|██████████| 100/100 [00:03<00:00, 32.79it/s]\n",
      "100%|██████████| 100/100 [00:03<00:00, 32.03it/s]\n",
      "100%|██████████| 100/100 [00:09<00:00, 10.25it/s]\n",
      "100%|██████████| 100/100 [00:18<00:00,  5.29it/s]\n",
      "100%|██████████| 100/100 [00:03<00:00, 32.51it/s]\n",
      "100%|██████████| 100/100 [00:06<00:00, 16.11it/s]\n",
      "100%|██████████| 100/100 [00:03<00:00, 30.94it/s]\n",
      "100%|██████████| 100/100 [00:03<00:00, 26.74it/s]\n",
      "100%|██████████| 100/100 [00:15<00:00,  6.35it/s]\n"
     ]
    },
    {
     "name": "stdout",
     "output_type": "stream",
     "text": [
      "With  1 repetitions: P(|0>) = 0.64, P(|1>) = 0.36, P(|2>) = 0.00 ,c=0.500 .\n",
      "With  2 repetitions: P(|0>) = 0.97, P(|1>) = 0.03, P(|2>) = 0.00 ,c=0.975 .\n",
      "With  3 repetitions: P(|0>) = 0.56, P(|1>) = 0.45, P(|2>) = 0.00 ,c=0.500 .\n",
      "With  4 repetitions: P(|0>) = 0.98, P(|1>) = 0.02, P(|2>) = 0.00 ,c=0.980 .\n",
      "With  5 repetitions: P(|0>) = 0.56, P(|1>) = 0.45, P(|2>) = 0.00 ,c=0.500 .\n",
      "With  6 repetitions: P(|0>) = 0.98, P(|1>) = 0.02, P(|2>) = 0.00 ,c=0.980 .\n",
      "With  7 repetitions: P(|0>) = 0.57, P(|1>) = 0.42, P(|2>) = 0.00 ,c=0.500 .\n",
      "With  8 repetitions: P(|0>) = 0.98, P(|1>) = 0.01, P(|2>) = 0.00 ,c=0.985 .\n",
      "With  9 repetitions: P(|0>) = 0.58, P(|1>) = 0.41, P(|2>) = 0.00 ,c=0.500 .\n",
      "With 10 repetitions: P(|0>) = 0.98, P(|1>) = 0.02, P(|2>) = 0.00 ,c=0.980 .\n",
      "With 11 repetitions: P(|0>) = 0.54, P(|1>) = 0.46, P(|2>) = 0.00 ,c=0.500 .\n",
      "With 12 repetitions: P(|0>) = 0.99, P(|1>) = 0.01, P(|2>) = 0.00 ,c=0.990 .\n",
      "With 13 repetitions: P(|0>) = 0.61, P(|1>) = 0.39, P(|2>) = 0.00 ,c=0.500 .\n",
      "With 14 repetitions: P(|0>) = 0.96, P(|1>) = 0.04, P(|2>) = 0.00 ,c=0.960 .\n",
      "With 15 repetitions: P(|0>) = 0.62, P(|1>) = 0.38, P(|2>) = 0.00 ,c=0.500 .\n",
      "With 16 repetitions: P(|0>) = 0.97, P(|1>) = 0.03, P(|2>) = 0.00 ,c=0.970 .\n",
      "With 17 repetitions: P(|0>) = 0.56, P(|1>) = 0.44, P(|2>) = 0.00 ,c=0.500 .\n",
      "With 18 repetitions: P(|0>) = 0.95, P(|1>) = 0.04, P(|2>) = 0.00 ,c=0.955 .\n",
      "With 19 repetitions: P(|0>) = 0.64, P(|1>) = 0.36, P(|2>) = 0.00 ,c=0.500 .\n",
      "With 20 repetitions: P(|0>) = 0.97, P(|1>) = 0.03, P(|2>) = 0.00 ,c=0.970 .\n",
      "Cost: -14.745000000000003\n",
      "params: [ 4.09781425 28.46472613]\n"
     ]
    },
    {
     "name": "stderr",
     "output_type": "stream",
     "text": [
      "100%|██████████| 100/100 [00:03<00:00, 31.80it/s]\n",
      "100%|██████████| 100/100 [00:03<00:00, 31.67it/s]\n",
      "100%|██████████| 100/100 [00:03<00:00, 31.73it/s]\n",
      "100%|██████████| 100/100 [00:03<00:00, 31.74it/s]\n",
      "100%|██████████| 100/100 [00:03<00:00, 29.96it/s]\n",
      "100%|██████████| 100/100 [00:03<00:00, 31.69it/s]\n",
      "  0%|          | 0/100 [00:02<?, ?it/s]\n"
     ]
    },
    {
     "ename": "KeyboardInterrupt",
     "evalue": "",
     "output_type": "error",
     "traceback": [
      "\u001b[0;31m---------------------------------------------------------------------------\u001b[0m",
      "\u001b[0;31mKeyboardInterrupt\u001b[0m                         Traceback (most recent call last)",
      "\u001b[0;32m<ipython-input-109-79e713d807d7>\u001b[0m in \u001b[0;36m<module>\u001b[0;34m\u001b[0m\n\u001b[1;32m      1\u001b[0m \u001b[0mparams\u001b[0m\u001b[0;34m=\u001b[0m\u001b[0minit_params\u001b[0m\u001b[0;31m#[ 6.5388117 , 13.36186856]\u001b[0m\u001b[0;34m\u001b[0m\u001b[0;34m\u001b[0m\u001b[0m\n\u001b[1;32m      2\u001b[0m \u001b[0mcobyla_options\u001b[0m \u001b[0;34m=\u001b[0m \u001b[0;34m{\u001b[0m\u001b[0;34m'maxiter'\u001b[0m\u001b[0;34m:\u001b[0m \u001b[0;36m1000\u001b[0m\u001b[0;34m,\u001b[0m \u001b[0;34m'disp'\u001b[0m\u001b[0;34m:\u001b[0m \u001b[0;32mTrue\u001b[0m\u001b[0;34m,\u001b[0m \u001b[0;34m'catol'\u001b[0m\u001b[0;34m:\u001b[0m \u001b[0;36m0.002\u001b[0m\u001b[0;34m}\u001b[0m\u001b[0;34m\u001b[0m\u001b[0;34m\u001b[0m\u001b[0m\n\u001b[0;32m----> 3\u001b[0;31m \u001b[0mres\u001b[0m \u001b[0;34m=\u001b[0m \u001b[0mscipy\u001b[0m\u001b[0;34m.\u001b[0m\u001b[0moptimize\u001b[0m\u001b[0;34m.\u001b[0m\u001b[0mminimize\u001b[0m\u001b[0;34m(\u001b[0m\u001b[0mcost_h\u001b[0m\u001b[0;34m,\u001b[0m \u001b[0mparams\u001b[0m\u001b[0;34m,\u001b[0m \u001b[0mmethod\u001b[0m\u001b[0;34m=\u001b[0m\u001b[0;34m'COBYLA'\u001b[0m\u001b[0;34m,\u001b[0m\u001b[0moptions\u001b[0m\u001b[0;34m=\u001b[0m\u001b[0mcobyla_options\u001b[0m\u001b[0;34m)\u001b[0m\u001b[0;34m\u001b[0m\u001b[0;34m\u001b[0m\u001b[0m\n\u001b[0m",
      "\u001b[0;32m~/opt/anaconda3/envs/qchack/lib/python3.7/site-packages/scipy/optimize/_minimize.py\u001b[0m in \u001b[0;36mminimize\u001b[0;34m(fun, x0, args, method, jac, hess, hessp, bounds, constraints, tol, callback, options)\u001b[0m\n\u001b[1;32m    623\u001b[0m                              **options)\n\u001b[1;32m    624\u001b[0m     \u001b[0;32melif\u001b[0m \u001b[0mmeth\u001b[0m \u001b[0;34m==\u001b[0m \u001b[0;34m'cobyla'\u001b[0m\u001b[0;34m:\u001b[0m\u001b[0;34m\u001b[0m\u001b[0;34m\u001b[0m\u001b[0m\n\u001b[0;32m--> 625\u001b[0;31m         \u001b[0;32mreturn\u001b[0m \u001b[0m_minimize_cobyla\u001b[0m\u001b[0;34m(\u001b[0m\u001b[0mfun\u001b[0m\u001b[0;34m,\u001b[0m \u001b[0mx0\u001b[0m\u001b[0;34m,\u001b[0m \u001b[0margs\u001b[0m\u001b[0;34m,\u001b[0m \u001b[0mconstraints\u001b[0m\u001b[0;34m,\u001b[0m \u001b[0;34m**\u001b[0m\u001b[0moptions\u001b[0m\u001b[0;34m)\u001b[0m\u001b[0;34m\u001b[0m\u001b[0;34m\u001b[0m\u001b[0m\n\u001b[0m\u001b[1;32m    626\u001b[0m     \u001b[0;32melif\u001b[0m \u001b[0mmeth\u001b[0m \u001b[0;34m==\u001b[0m \u001b[0;34m'slsqp'\u001b[0m\u001b[0;34m:\u001b[0m\u001b[0;34m\u001b[0m\u001b[0;34m\u001b[0m\u001b[0m\n\u001b[1;32m    627\u001b[0m         return _minimize_slsqp(fun, x0, args, jac, bounds,\n",
      "\u001b[0;32m~/opt/anaconda3/envs/qchack/lib/python3.7/site-packages/scipy/optimize/cobyla.py\u001b[0m in \u001b[0;36mwrapper\u001b[0;34m(*args, **kwargs)\u001b[0m\n\u001b[1;32m     32\u001b[0m     \u001b[0;32mdef\u001b[0m \u001b[0mwrapper\u001b[0m\u001b[0;34m(\u001b[0m\u001b[0;34m*\u001b[0m\u001b[0margs\u001b[0m\u001b[0;34m,\u001b[0m \u001b[0;34m**\u001b[0m\u001b[0mkwargs\u001b[0m\u001b[0;34m)\u001b[0m\u001b[0;34m:\u001b[0m\u001b[0;34m\u001b[0m\u001b[0;34m\u001b[0m\u001b[0m\n\u001b[1;32m     33\u001b[0m         \u001b[0;32mwith\u001b[0m \u001b[0m_module_lock\u001b[0m\u001b[0;34m:\u001b[0m\u001b[0;34m\u001b[0m\u001b[0;34m\u001b[0m\u001b[0m\n\u001b[0;32m---> 34\u001b[0;31m             \u001b[0;32mreturn\u001b[0m \u001b[0mfunc\u001b[0m\u001b[0;34m(\u001b[0m\u001b[0;34m*\u001b[0m\u001b[0margs\u001b[0m\u001b[0;34m,\u001b[0m \u001b[0;34m**\u001b[0m\u001b[0mkwargs\u001b[0m\u001b[0;34m)\u001b[0m\u001b[0;34m\u001b[0m\u001b[0;34m\u001b[0m\u001b[0m\n\u001b[0m\u001b[1;32m     35\u001b[0m     \u001b[0;32mreturn\u001b[0m \u001b[0mwrapper\u001b[0m\u001b[0;34m\u001b[0m\u001b[0;34m\u001b[0m\u001b[0m\n\u001b[1;32m     36\u001b[0m \u001b[0;34m\u001b[0m\u001b[0m\n",
      "\u001b[0;32m~/opt/anaconda3/envs/qchack/lib/python3.7/site-packages/scipy/optimize/cobyla.py\u001b[0m in \u001b[0;36m_minimize_cobyla\u001b[0;34m(fun, x0, args, constraints, rhobeg, tol, maxiter, disp, catol, **unknown_options)\u001b[0m\n\u001b[1;32m    260\u001b[0m     xopt, info = _cobyla.minimize(calcfc, m=m, x=np.copy(x0), rhobeg=rhobeg,\n\u001b[1;32m    261\u001b[0m                                   \u001b[0mrhoend\u001b[0m\u001b[0;34m=\u001b[0m\u001b[0mrhoend\u001b[0m\u001b[0;34m,\u001b[0m \u001b[0miprint\u001b[0m\u001b[0;34m=\u001b[0m\u001b[0miprint\u001b[0m\u001b[0;34m,\u001b[0m \u001b[0mmaxfun\u001b[0m\u001b[0;34m=\u001b[0m\u001b[0mmaxfun\u001b[0m\u001b[0;34m,\u001b[0m\u001b[0;34m\u001b[0m\u001b[0;34m\u001b[0m\u001b[0m\n\u001b[0;32m--> 262\u001b[0;31m                                   dinfo=info)\n\u001b[0m\u001b[1;32m    263\u001b[0m \u001b[0;34m\u001b[0m\u001b[0m\n\u001b[1;32m    264\u001b[0m     \u001b[0;32mif\u001b[0m \u001b[0minfo\u001b[0m\u001b[0;34m[\u001b[0m\u001b[0;36m3\u001b[0m\u001b[0;34m]\u001b[0m \u001b[0;34m>\u001b[0m \u001b[0mcatol\u001b[0m\u001b[0;34m:\u001b[0m\u001b[0;34m\u001b[0m\u001b[0;34m\u001b[0m\u001b[0m\n",
      "\u001b[0;32m~/opt/anaconda3/envs/qchack/lib/python3.7/site-packages/scipy/optimize/cobyla.py\u001b[0m in \u001b[0;36mcalcfc\u001b[0;34m(x, con)\u001b[0m\n\u001b[1;32m    250\u001b[0m \u001b[0;34m\u001b[0m\u001b[0m\n\u001b[1;32m    251\u001b[0m     \u001b[0;32mdef\u001b[0m \u001b[0mcalcfc\u001b[0m\u001b[0;34m(\u001b[0m\u001b[0mx\u001b[0m\u001b[0;34m,\u001b[0m \u001b[0mcon\u001b[0m\u001b[0;34m)\u001b[0m\u001b[0;34m:\u001b[0m\u001b[0;34m\u001b[0m\u001b[0;34m\u001b[0m\u001b[0m\n\u001b[0;32m--> 252\u001b[0;31m         \u001b[0mf\u001b[0m \u001b[0;34m=\u001b[0m \u001b[0mfun\u001b[0m\u001b[0;34m(\u001b[0m\u001b[0mx\u001b[0m\u001b[0;34m,\u001b[0m \u001b[0;34m*\u001b[0m\u001b[0margs\u001b[0m\u001b[0;34m)\u001b[0m\u001b[0;34m\u001b[0m\u001b[0;34m\u001b[0m\u001b[0m\n\u001b[0m\u001b[1;32m    253\u001b[0m         \u001b[0mi\u001b[0m \u001b[0;34m=\u001b[0m \u001b[0;36m0\u001b[0m\u001b[0;34m\u001b[0m\u001b[0;34m\u001b[0m\u001b[0m\n\u001b[1;32m    254\u001b[0m         \u001b[0;32mfor\u001b[0m \u001b[0msize\u001b[0m\u001b[0;34m,\u001b[0m \u001b[0mc\u001b[0m \u001b[0;32min\u001b[0m \u001b[0mizip\u001b[0m\u001b[0;34m(\u001b[0m\u001b[0mcons_lengths\u001b[0m\u001b[0;34m,\u001b[0m \u001b[0mconstraints\u001b[0m\u001b[0;34m)\u001b[0m\u001b[0;34m:\u001b[0m\u001b[0;34m\u001b[0m\u001b[0;34m\u001b[0m\u001b[0m\n",
      "\u001b[0;32m<ipython-input-106-5cab17d25f49>\u001b[0m in \u001b[0;36mcost_h\u001b[0;34m(params)\u001b[0m\n\u001b[1;32m     23\u001b[0m     \u001b[0;32mfor\u001b[0m \u001b[0mrepetition_count\u001b[0m \u001b[0;32min\u001b[0m \u001b[0mrepetitions\u001b[0m\u001b[0;34m:\u001b[0m\u001b[0;34m\u001b[0m\u001b[0;34m\u001b[0m\u001b[0m\n\u001b[1;32m     24\u001b[0m         \u001b[0mcontrols\u001b[0m\u001b[0;34m.\u001b[0m\u001b[0mappend\u001b[0m\u001b[0;34m(\u001b[0m\u001b[0;34m{\u001b[0m\u001b[0;34m\"duration\"\u001b[0m\u001b[0;34m:\u001b[0m \u001b[0mduration\u001b[0m\u001b[0;34m,\u001b[0m \u001b[0;34m\"values\"\u001b[0m\u001b[0;34m:\u001b[0m \u001b[0mvalues\u001b[0m\u001b[0;34m,\u001b[0m \u001b[0;34m\"repetition_count\"\u001b[0m\u001b[0;34m:\u001b[0m \u001b[0mrepetition_count\u001b[0m\u001b[0;34m}\u001b[0m\u001b[0;34m)\u001b[0m\u001b[0;34m\u001b[0m\u001b[0;34m\u001b[0m\u001b[0m\n\u001b[0;32m---> 25\u001b[0;31m         \u001b[0mexperiment_results\u001b[0m \u001b[0;34m=\u001b[0m \u001b[0mqctrl\u001b[0m\u001b[0;34m.\u001b[0m\u001b[0mfunctions\u001b[0m\u001b[0;34m.\u001b[0m\u001b[0mcalculate_qchack_measurements\u001b[0m\u001b[0;34m(\u001b[0m\u001b[0mcontrols\u001b[0m\u001b[0;34m=\u001b[0m\u001b[0mcontrols\u001b[0m\u001b[0;34m,\u001b[0m\u001b[0mshot_count\u001b[0m\u001b[0;34m=\u001b[0m\u001b[0mshot_count\u001b[0m\u001b[0;34m,\u001b[0m\u001b[0;34m)\u001b[0m\u001b[0;34m\u001b[0m\u001b[0;34m\u001b[0m\u001b[0m\n\u001b[0m\u001b[1;32m     26\u001b[0m \u001b[0;34m\u001b[0m\u001b[0m\n\u001b[1;32m     27\u001b[0m \u001b[0;34m\u001b[0m\u001b[0m\n",
      "\u001b[0;32m~/opt/anaconda3/envs/qchack/lib/python3.7/site-packages/forge/_revision.py\u001b[0m in \u001b[0;36minner\u001b[0;34m(*args, **kwargs)\u001b[0m\n\u001b[1;32m    326\u001b[0m                 \u001b[0;31m# pylint: disable=E1102, not-callable\u001b[0m\u001b[0;34m\u001b[0m\u001b[0;34m\u001b[0m\u001b[0;34m\u001b[0m\u001b[0m\n\u001b[1;32m    327\u001b[0m                 \u001b[0mmapped\u001b[0m \u001b[0;34m=\u001b[0m \u001b[0minner\u001b[0m\u001b[0;34m.\u001b[0m\u001b[0m__mapper__\u001b[0m\u001b[0;34m(\u001b[0m\u001b[0;34m*\u001b[0m\u001b[0margs\u001b[0m\u001b[0;34m,\u001b[0m \u001b[0;34m**\u001b[0m\u001b[0mkwargs\u001b[0m\u001b[0;34m)\u001b[0m\u001b[0;34m\u001b[0m\u001b[0;34m\u001b[0m\u001b[0m\n\u001b[0;32m--> 328\u001b[0;31m                 \u001b[0;32mreturn\u001b[0m \u001b[0mcallable\u001b[0m\u001b[0;34m(\u001b[0m\u001b[0;34m*\u001b[0m\u001b[0mmapped\u001b[0m\u001b[0;34m.\u001b[0m\u001b[0margs\u001b[0m\u001b[0;34m,\u001b[0m \u001b[0;34m**\u001b[0m\u001b[0mmapped\u001b[0m\u001b[0;34m.\u001b[0m\u001b[0mkwargs\u001b[0m\u001b[0;34m)\u001b[0m\u001b[0;34m\u001b[0m\u001b[0;34m\u001b[0m\u001b[0m\n\u001b[0m\u001b[1;32m    329\u001b[0m \u001b[0;34m\u001b[0m\u001b[0m\n\u001b[1;32m    330\u001b[0m         \u001b[0mnext_\u001b[0m\u001b[0;34m.\u001b[0m\u001b[0mvalidate\u001b[0m\u001b[0;34m(\u001b[0m\u001b[0;34m)\u001b[0m\u001b[0;34m\u001b[0m\u001b[0;34m\u001b[0m\u001b[0m\n",
      "\u001b[0;32m~/opt/anaconda3/envs/qchack/lib/python3.7/site-packages/qctrl/builders/functions.py\u001b[0m in \u001b[0;36mfunc\u001b[0;34m(**kwargs)\u001b[0m\n\u001b[1;32m    109\u001b[0m         )\n\u001b[1;32m    110\u001b[0m         \u001b[0mrefresh_query\u001b[0m \u001b[0;34m=\u001b[0m \u001b[0menv\u001b[0m\u001b[0;34m.\u001b[0m\u001b[0mbuild_refresh_query\u001b[0m\u001b[0;34m(\u001b[0m\u001b[0mmutation_field\u001b[0m\u001b[0;34m.\u001b[0m\u001b[0mtype\u001b[0m\u001b[0;34m,\u001b[0m \u001b[0mresult\u001b[0m\u001b[0;34m.\u001b[0m\u001b[0maction_id\u001b[0m\u001b[0;34m)\u001b[0m\u001b[0;34m\u001b[0m\u001b[0;34m\u001b[0m\u001b[0m\n\u001b[0;32m--> 111\u001b[0;31m         \u001b[0menv\u001b[0m\u001b[0;34m.\u001b[0m\u001b[0mwait_for_completion\u001b[0m\u001b[0;34m(\u001b[0m\u001b[0mmutation_field\u001b[0m\u001b[0;34m.\u001b[0m\u001b[0mtype\u001b[0m\u001b[0;34m,\u001b[0m \u001b[0mresult\u001b[0m\u001b[0;34m,\u001b[0m \u001b[0mrefresh_query\u001b[0m\u001b[0;34m)\u001b[0m\u001b[0;34m\u001b[0m\u001b[0;34m\u001b[0m\u001b[0m\n\u001b[0m\u001b[1;32m    112\u001b[0m         \u001b[0;32mreturn\u001b[0m \u001b[0mresult\u001b[0m\u001b[0;34m\u001b[0m\u001b[0;34m\u001b[0m\u001b[0m\n\u001b[1;32m    113\u001b[0m \u001b[0;34m\u001b[0m\u001b[0m\n",
      "\u001b[0;32m~/opt/anaconda3/envs/qchack/lib/python3.7/site-packages/qctrl/builders/custom_environment.py\u001b[0m in \u001b[0;36mwait_for_completion\u001b[0;34m(self, field_type, obj, refresh_query)\u001b[0m\n\u001b[1;32m    125\u001b[0m                 \u001b[0mprogress_bar\u001b[0m\u001b[0;34m.\u001b[0m\u001b[0mupdate\u001b[0m\u001b[0;34m(\u001b[0m\u001b[0mprogress\u001b[0m\u001b[0;34m)\u001b[0m\u001b[0;34m\u001b[0m\u001b[0;34m\u001b[0m\u001b[0m\n\u001b[1;32m    126\u001b[0m                 \u001b[0m_wait\u001b[0m\u001b[0;34m(\u001b[0m\u001b[0;34m)\u001b[0m\u001b[0;34m\u001b[0m\u001b[0;34m\u001b[0m\u001b[0m\n\u001b[0;32m--> 127\u001b[0;31m                 \u001b[0mresult\u001b[0m \u001b[0;34m=\u001b[0m \u001b[0masync_result\u001b[0m\u001b[0;34m.\u001b[0m\u001b[0mrefresh\u001b[0m\u001b[0;34m(\u001b[0m\u001b[0;34m)\u001b[0m\u001b[0;34m\u001b[0m\u001b[0;34m\u001b[0m\u001b[0m\n\u001b[0m\u001b[1;32m    128\u001b[0m                 \u001b[0mself\u001b[0m\u001b[0;34m.\u001b[0m\u001b[0mupdate_data\u001b[0m\u001b[0;34m(\u001b[0m\u001b[0mfield_type\u001b[0m\u001b[0;34m,\u001b[0m \u001b[0mobj\u001b[0m\u001b[0;34m,\u001b[0m \u001b[0mresult\u001b[0m\u001b[0;34m)\u001b[0m\u001b[0;34m\u001b[0m\u001b[0;34m\u001b[0m\u001b[0m\n\u001b[1;32m    129\u001b[0m \u001b[0;34m\u001b[0m\u001b[0m\n",
      "\u001b[0;32m~/opt/anaconda3/envs/qchack/lib/python3.7/site-packages/qctrl/builders/async_result.py\u001b[0m in \u001b[0;36mrefresh\u001b[0;34m(self)\u001b[0m\n\u001b[1;32m     51\u001b[0m         \"\"\"\n\u001b[1;32m     52\u001b[0m         \u001b[0mself\u001b[0m\u001b[0;34m.\u001b[0m\u001b[0mwrite_waiting_message\u001b[0m\u001b[0;34m(\u001b[0m\u001b[0mself\u001b[0m\u001b[0;34m.\u001b[0m\u001b[0mmessages\u001b[0m\u001b[0;34m.\u001b[0m\u001b[0mget\u001b[0m\u001b[0;34m(\u001b[0m\u001b[0mself\u001b[0m\u001b[0;34m.\u001b[0m\u001b[0maction\u001b[0m\u001b[0;34m.\u001b[0m\u001b[0mstatus\u001b[0m\u001b[0;34m)\u001b[0m\u001b[0;34m)\u001b[0m\u001b[0;34m\u001b[0m\u001b[0;34m\u001b[0m\u001b[0m\n\u001b[0;32m---> 53\u001b[0;31m         \u001b[0mquery_result\u001b[0m\u001b[0;34m:\u001b[0m \u001b[0mDict\u001b[0m \u001b[0;34m=\u001b[0m \u001b[0mself\u001b[0m\u001b[0;34m.\u001b[0m\u001b[0mgql_client\u001b[0m\u001b[0;34m.\u001b[0m\u001b[0mexecute\u001b[0m\u001b[0;34m(\u001b[0m\u001b[0mself\u001b[0m\u001b[0;34m.\u001b[0m\u001b[0mrefresh_query\u001b[0m\u001b[0;34m)\u001b[0m\u001b[0;34m\u001b[0m\u001b[0;34m\u001b[0m\u001b[0m\n\u001b[0m\u001b[1;32m     54\u001b[0m         \u001b[0;32mif\u001b[0m \u001b[0mquery_result\u001b[0m\u001b[0;34m[\u001b[0m\u001b[0;34m\"coreAction\"\u001b[0m\u001b[0;34m]\u001b[0m\u001b[0;34m.\u001b[0m\u001b[0mget\u001b[0m\u001b[0;34m(\u001b[0m\u001b[0;34m\"errors\"\u001b[0m\u001b[0;34m)\u001b[0m\u001b[0;34m:\u001b[0m\u001b[0;34m\u001b[0m\u001b[0;34m\u001b[0m\u001b[0m\n\u001b[1;32m     55\u001b[0m             raise QctrlGqlException(\n",
      "\u001b[0;32m~/opt/anaconda3/envs/qchack/lib/python3.7/site-packages/gql/client.py\u001b[0m in \u001b[0;36mexecute\u001b[0;34m(self, document, *args, **kwargs)\u001b[0m\n\u001b[1;32m    176\u001b[0m \u001b[0;34m\u001b[0m\u001b[0m\n\u001b[1;32m    177\u001b[0m         \u001b[0;32melse\u001b[0m\u001b[0;34m:\u001b[0m  \u001b[0;31m# Sync transports\u001b[0m\u001b[0;34m\u001b[0m\u001b[0;34m\u001b[0m\u001b[0m\n\u001b[0;32m--> 178\u001b[0;31m             \u001b[0;32mreturn\u001b[0m \u001b[0mself\u001b[0m\u001b[0;34m.\u001b[0m\u001b[0mexecute_sync\u001b[0m\u001b[0;34m(\u001b[0m\u001b[0mdocument\u001b[0m\u001b[0;34m,\u001b[0m \u001b[0;34m*\u001b[0m\u001b[0margs\u001b[0m\u001b[0;34m,\u001b[0m \u001b[0;34m**\u001b[0m\u001b[0mkwargs\u001b[0m\u001b[0;34m)\u001b[0m\u001b[0;34m\u001b[0m\u001b[0;34m\u001b[0m\u001b[0m\n\u001b[0m\u001b[1;32m    179\u001b[0m \u001b[0;34m\u001b[0m\u001b[0m\n\u001b[1;32m    180\u001b[0m     async def subscribe_async(\n",
      "\u001b[0;32m~/opt/anaconda3/envs/qchack/lib/python3.7/site-packages/gql/client.py\u001b[0m in \u001b[0;36mexecute_sync\u001b[0;34m(self, document, *args, **kwargs)\u001b[0m\n\u001b[1;32m    124\u001b[0m         \u001b[0;34m\"\"\":meta private:\"\"\"\u001b[0m\u001b[0;34m\u001b[0m\u001b[0;34m\u001b[0m\u001b[0m\n\u001b[1;32m    125\u001b[0m         \u001b[0;32mwith\u001b[0m \u001b[0mself\u001b[0m \u001b[0;32mas\u001b[0m \u001b[0msession\u001b[0m\u001b[0;34m:\u001b[0m\u001b[0;34m\u001b[0m\u001b[0;34m\u001b[0m\u001b[0m\n\u001b[0;32m--> 126\u001b[0;31m             \u001b[0;32mreturn\u001b[0m \u001b[0msession\u001b[0m\u001b[0;34m.\u001b[0m\u001b[0mexecute\u001b[0m\u001b[0;34m(\u001b[0m\u001b[0mdocument\u001b[0m\u001b[0;34m,\u001b[0m \u001b[0;34m*\u001b[0m\u001b[0margs\u001b[0m\u001b[0;34m,\u001b[0m \u001b[0;34m**\u001b[0m\u001b[0mkwargs\u001b[0m\u001b[0;34m)\u001b[0m\u001b[0;34m\u001b[0m\u001b[0;34m\u001b[0m\u001b[0m\n\u001b[0m\u001b[1;32m    127\u001b[0m \u001b[0;34m\u001b[0m\u001b[0m\n\u001b[1;32m    128\u001b[0m     \u001b[0;32masync\u001b[0m \u001b[0;32mdef\u001b[0m \u001b[0mexecute_async\u001b[0m\u001b[0;34m(\u001b[0m\u001b[0mself\u001b[0m\u001b[0;34m,\u001b[0m \u001b[0mdocument\u001b[0m\u001b[0;34m:\u001b[0m \u001b[0mDocumentNode\u001b[0m\u001b[0;34m,\u001b[0m \u001b[0;34m*\u001b[0m\u001b[0margs\u001b[0m\u001b[0;34m,\u001b[0m \u001b[0;34m**\u001b[0m\u001b[0mkwargs\u001b[0m\u001b[0;34m)\u001b[0m \u001b[0;34m->\u001b[0m \u001b[0mDict\u001b[0m\u001b[0;34m:\u001b[0m\u001b[0;34m\u001b[0m\u001b[0;34m\u001b[0m\u001b[0m\n",
      "\u001b[0;32m~/opt/anaconda3/envs/qchack/lib/python3.7/site-packages/gql/client.py\u001b[0m in \u001b[0;36mexecute\u001b[0;34m(self, document, *args, **kwargs)\u001b[0m\n\u001b[1;32m    296\u001b[0m \u001b[0;34m\u001b[0m\u001b[0m\n\u001b[1;32m    297\u001b[0m         \u001b[0;31m# Validate and execute on the transport\u001b[0m\u001b[0;34m\u001b[0m\u001b[0;34m\u001b[0m\u001b[0;34m\u001b[0m\u001b[0m\n\u001b[0;32m--> 298\u001b[0;31m         \u001b[0mresult\u001b[0m \u001b[0;34m=\u001b[0m \u001b[0mself\u001b[0m\u001b[0;34m.\u001b[0m\u001b[0m_execute\u001b[0m\u001b[0;34m(\u001b[0m\u001b[0mdocument\u001b[0m\u001b[0;34m,\u001b[0m \u001b[0;34m*\u001b[0m\u001b[0margs\u001b[0m\u001b[0;34m,\u001b[0m \u001b[0;34m**\u001b[0m\u001b[0mkwargs\u001b[0m\u001b[0;34m)\u001b[0m\u001b[0;34m\u001b[0m\u001b[0;34m\u001b[0m\u001b[0m\n\u001b[0m\u001b[1;32m    299\u001b[0m \u001b[0;34m\u001b[0m\u001b[0m\n\u001b[1;32m    300\u001b[0m         \u001b[0;31m# Raise an error if an error is returned in the ExecutionResult object\u001b[0m\u001b[0;34m\u001b[0m\u001b[0;34m\u001b[0m\u001b[0;34m\u001b[0m\u001b[0m\n",
      "\u001b[0;32m~/opt/anaconda3/envs/qchack/lib/python3.7/site-packages/gql/client.py\u001b[0m in \u001b[0;36m_execute\u001b[0;34m(self, document, *args, **kwargs)\u001b[0m\n\u001b[1;32m    291\u001b[0m             \u001b[0mself\u001b[0m\u001b[0;34m.\u001b[0m\u001b[0mclient\u001b[0m\u001b[0;34m.\u001b[0m\u001b[0mvalidate\u001b[0m\u001b[0;34m(\u001b[0m\u001b[0mdocument\u001b[0m\u001b[0;34m)\u001b[0m\u001b[0;34m\u001b[0m\u001b[0;34m\u001b[0m\u001b[0m\n\u001b[1;32m    292\u001b[0m \u001b[0;34m\u001b[0m\u001b[0m\n\u001b[0;32m--> 293\u001b[0;31m         \u001b[0;32mreturn\u001b[0m \u001b[0mself\u001b[0m\u001b[0;34m.\u001b[0m\u001b[0mtransport\u001b[0m\u001b[0;34m.\u001b[0m\u001b[0mexecute\u001b[0m\u001b[0;34m(\u001b[0m\u001b[0mdocument\u001b[0m\u001b[0;34m,\u001b[0m \u001b[0;34m*\u001b[0m\u001b[0margs\u001b[0m\u001b[0;34m,\u001b[0m \u001b[0;34m**\u001b[0m\u001b[0mkwargs\u001b[0m\u001b[0;34m)\u001b[0m\u001b[0;34m\u001b[0m\u001b[0;34m\u001b[0m\u001b[0m\n\u001b[0m\u001b[1;32m    294\u001b[0m \u001b[0;34m\u001b[0m\u001b[0m\n\u001b[1;32m    295\u001b[0m     \u001b[0;32mdef\u001b[0m \u001b[0mexecute\u001b[0m\u001b[0;34m(\u001b[0m\u001b[0mself\u001b[0m\u001b[0;34m,\u001b[0m \u001b[0mdocument\u001b[0m\u001b[0;34m:\u001b[0m \u001b[0mDocumentNode\u001b[0m\u001b[0;34m,\u001b[0m \u001b[0;34m*\u001b[0m\u001b[0margs\u001b[0m\u001b[0;34m,\u001b[0m \u001b[0;34m**\u001b[0m\u001b[0mkwargs\u001b[0m\u001b[0;34m)\u001b[0m \u001b[0;34m->\u001b[0m \u001b[0mDict\u001b[0m\u001b[0;34m:\u001b[0m\u001b[0;34m\u001b[0m\u001b[0;34m\u001b[0m\u001b[0m\n",
      "\u001b[0;32m~/opt/anaconda3/envs/qchack/lib/python3.7/site-packages/qctrl/builders/http_transport.py\u001b[0m in \u001b[0;36mexecute\u001b[0;34m(self, document, variable_values, operation_name, timeout, disable_result_cache)\u001b[0m\n\u001b[1;32m    117\u001b[0m         \u001b[0;31m# Using the created session to perform requests\u001b[0m\u001b[0;34m\u001b[0m\u001b[0;34m\u001b[0m\u001b[0;34m\u001b[0m\u001b[0m\n\u001b[1;32m    118\u001b[0m         response = self.session.request(\n\u001b[0;32m--> 119\u001b[0;31m             \u001b[0mself\u001b[0m\u001b[0;34m.\u001b[0m\u001b[0mmethod\u001b[0m\u001b[0;34m,\u001b[0m \u001b[0mself\u001b[0m\u001b[0;34m.\u001b[0m\u001b[0murl\u001b[0m\u001b[0;34m,\u001b[0m \u001b[0;34m**\u001b[0m\u001b[0mpost_args\u001b[0m  \u001b[0;31m# type: ignore\u001b[0m\u001b[0;34m\u001b[0m\u001b[0;34m\u001b[0m\u001b[0m\n\u001b[0m\u001b[1;32m    120\u001b[0m         )\n\u001b[1;32m    121\u001b[0m \u001b[0;34m\u001b[0m\u001b[0m\n",
      "\u001b[0;32m~/opt/anaconda3/envs/qchack/lib/python3.7/site-packages/requests/sessions.py\u001b[0m in \u001b[0;36mrequest\u001b[0;34m(self, method, url, params, data, headers, cookies, files, auth, timeout, allow_redirects, proxies, hooks, stream, verify, cert, json)\u001b[0m\n\u001b[1;32m    540\u001b[0m         }\n\u001b[1;32m    541\u001b[0m         \u001b[0msend_kwargs\u001b[0m\u001b[0;34m.\u001b[0m\u001b[0mupdate\u001b[0m\u001b[0;34m(\u001b[0m\u001b[0msettings\u001b[0m\u001b[0;34m)\u001b[0m\u001b[0;34m\u001b[0m\u001b[0;34m\u001b[0m\u001b[0m\n\u001b[0;32m--> 542\u001b[0;31m         \u001b[0mresp\u001b[0m \u001b[0;34m=\u001b[0m \u001b[0mself\u001b[0m\u001b[0;34m.\u001b[0m\u001b[0msend\u001b[0m\u001b[0;34m(\u001b[0m\u001b[0mprep\u001b[0m\u001b[0;34m,\u001b[0m \u001b[0;34m**\u001b[0m\u001b[0msend_kwargs\u001b[0m\u001b[0;34m)\u001b[0m\u001b[0;34m\u001b[0m\u001b[0;34m\u001b[0m\u001b[0m\n\u001b[0m\u001b[1;32m    543\u001b[0m \u001b[0;34m\u001b[0m\u001b[0m\n\u001b[1;32m    544\u001b[0m         \u001b[0;32mreturn\u001b[0m \u001b[0mresp\u001b[0m\u001b[0;34m\u001b[0m\u001b[0;34m\u001b[0m\u001b[0m\n",
      "\u001b[0;32m~/opt/anaconda3/envs/qchack/lib/python3.7/site-packages/requests/sessions.py\u001b[0m in \u001b[0;36msend\u001b[0;34m(self, request, **kwargs)\u001b[0m\n\u001b[1;32m    653\u001b[0m \u001b[0;34m\u001b[0m\u001b[0m\n\u001b[1;32m    654\u001b[0m         \u001b[0;31m# Send the request\u001b[0m\u001b[0;34m\u001b[0m\u001b[0;34m\u001b[0m\u001b[0;34m\u001b[0m\u001b[0m\n\u001b[0;32m--> 655\u001b[0;31m         \u001b[0mr\u001b[0m \u001b[0;34m=\u001b[0m \u001b[0madapter\u001b[0m\u001b[0;34m.\u001b[0m\u001b[0msend\u001b[0m\u001b[0;34m(\u001b[0m\u001b[0mrequest\u001b[0m\u001b[0;34m,\u001b[0m \u001b[0;34m**\u001b[0m\u001b[0mkwargs\u001b[0m\u001b[0;34m)\u001b[0m\u001b[0;34m\u001b[0m\u001b[0;34m\u001b[0m\u001b[0m\n\u001b[0m\u001b[1;32m    656\u001b[0m \u001b[0;34m\u001b[0m\u001b[0m\n\u001b[1;32m    657\u001b[0m         \u001b[0;31m# Total elapsed time of the request (approximately)\u001b[0m\u001b[0;34m\u001b[0m\u001b[0;34m\u001b[0m\u001b[0;34m\u001b[0m\u001b[0m\n",
      "\u001b[0;32m~/opt/anaconda3/envs/qchack/lib/python3.7/site-packages/requests/adapters.py\u001b[0m in \u001b[0;36msend\u001b[0;34m(self, request, stream, timeout, verify, cert, proxies)\u001b[0m\n\u001b[1;32m    447\u001b[0m                     \u001b[0mdecode_content\u001b[0m\u001b[0;34m=\u001b[0m\u001b[0;32mFalse\u001b[0m\u001b[0;34m,\u001b[0m\u001b[0;34m\u001b[0m\u001b[0;34m\u001b[0m\u001b[0m\n\u001b[1;32m    448\u001b[0m                     \u001b[0mretries\u001b[0m\u001b[0;34m=\u001b[0m\u001b[0mself\u001b[0m\u001b[0;34m.\u001b[0m\u001b[0mmax_retries\u001b[0m\u001b[0;34m,\u001b[0m\u001b[0;34m\u001b[0m\u001b[0;34m\u001b[0m\u001b[0m\n\u001b[0;32m--> 449\u001b[0;31m                     \u001b[0mtimeout\u001b[0m\u001b[0;34m=\u001b[0m\u001b[0mtimeout\u001b[0m\u001b[0;34m\u001b[0m\u001b[0;34m\u001b[0m\u001b[0m\n\u001b[0m\u001b[1;32m    450\u001b[0m                 )\n\u001b[1;32m    451\u001b[0m \u001b[0;34m\u001b[0m\u001b[0m\n",
      "\u001b[0;32m~/opt/anaconda3/envs/qchack/lib/python3.7/site-packages/urllib3/connectionpool.py\u001b[0m in \u001b[0;36murlopen\u001b[0;34m(self, method, url, body, headers, retries, redirect, assert_same_host, timeout, pool_timeout, release_conn, chunked, body_pos, **response_kw)\u001b[0m\n\u001b[1;32m    704\u001b[0m                 \u001b[0mbody\u001b[0m\u001b[0;34m=\u001b[0m\u001b[0mbody\u001b[0m\u001b[0;34m,\u001b[0m\u001b[0;34m\u001b[0m\u001b[0;34m\u001b[0m\u001b[0m\n\u001b[1;32m    705\u001b[0m                 \u001b[0mheaders\u001b[0m\u001b[0;34m=\u001b[0m\u001b[0mheaders\u001b[0m\u001b[0;34m,\u001b[0m\u001b[0;34m\u001b[0m\u001b[0;34m\u001b[0m\u001b[0m\n\u001b[0;32m--> 706\u001b[0;31m                 \u001b[0mchunked\u001b[0m\u001b[0;34m=\u001b[0m\u001b[0mchunked\u001b[0m\u001b[0;34m,\u001b[0m\u001b[0;34m\u001b[0m\u001b[0;34m\u001b[0m\u001b[0m\n\u001b[0m\u001b[1;32m    707\u001b[0m             )\n\u001b[1;32m    708\u001b[0m \u001b[0;34m\u001b[0m\u001b[0m\n",
      "\u001b[0;32m~/opt/anaconda3/envs/qchack/lib/python3.7/site-packages/urllib3/connectionpool.py\u001b[0m in \u001b[0;36m_make_request\u001b[0;34m(self, conn, method, url, timeout, chunked, **httplib_request_kw)\u001b[0m\n\u001b[1;32m    443\u001b[0m                     \u001b[0;31m# Python 3 (including for exceptions like SystemExit).\u001b[0m\u001b[0;34m\u001b[0m\u001b[0;34m\u001b[0m\u001b[0;34m\u001b[0m\u001b[0m\n\u001b[1;32m    444\u001b[0m                     \u001b[0;31m# Otherwise it looks like a bug in the code.\u001b[0m\u001b[0;34m\u001b[0m\u001b[0;34m\u001b[0m\u001b[0;34m\u001b[0m\u001b[0m\n\u001b[0;32m--> 445\u001b[0;31m                     \u001b[0msix\u001b[0m\u001b[0;34m.\u001b[0m\u001b[0mraise_from\u001b[0m\u001b[0;34m(\u001b[0m\u001b[0me\u001b[0m\u001b[0;34m,\u001b[0m \u001b[0;32mNone\u001b[0m\u001b[0;34m)\u001b[0m\u001b[0;34m\u001b[0m\u001b[0;34m\u001b[0m\u001b[0m\n\u001b[0m\u001b[1;32m    446\u001b[0m         \u001b[0;32mexcept\u001b[0m \u001b[0;34m(\u001b[0m\u001b[0mSocketTimeout\u001b[0m\u001b[0;34m,\u001b[0m \u001b[0mBaseSSLError\u001b[0m\u001b[0;34m,\u001b[0m \u001b[0mSocketError\u001b[0m\u001b[0;34m)\u001b[0m \u001b[0;32mas\u001b[0m \u001b[0me\u001b[0m\u001b[0;34m:\u001b[0m\u001b[0;34m\u001b[0m\u001b[0;34m\u001b[0m\u001b[0m\n\u001b[1;32m    447\u001b[0m             \u001b[0mself\u001b[0m\u001b[0;34m.\u001b[0m\u001b[0m_raise_timeout\u001b[0m\u001b[0;34m(\u001b[0m\u001b[0merr\u001b[0m\u001b[0;34m=\u001b[0m\u001b[0me\u001b[0m\u001b[0;34m,\u001b[0m \u001b[0murl\u001b[0m\u001b[0;34m=\u001b[0m\u001b[0murl\u001b[0m\u001b[0;34m,\u001b[0m \u001b[0mtimeout_value\u001b[0m\u001b[0;34m=\u001b[0m\u001b[0mread_timeout\u001b[0m\u001b[0;34m)\u001b[0m\u001b[0;34m\u001b[0m\u001b[0;34m\u001b[0m\u001b[0m\n",
      "\u001b[0;32m~/opt/anaconda3/envs/qchack/lib/python3.7/site-packages/urllib3/packages/six.py\u001b[0m in \u001b[0;36mraise_from\u001b[0;34m(value, from_value)\u001b[0m\n",
      "\u001b[0;32m~/opt/anaconda3/envs/qchack/lib/python3.7/site-packages/urllib3/connectionpool.py\u001b[0m in \u001b[0;36m_make_request\u001b[0;34m(self, conn, method, url, timeout, chunked, **httplib_request_kw)\u001b[0m\n\u001b[1;32m    438\u001b[0m                 \u001b[0;31m# Python 3\u001b[0m\u001b[0;34m\u001b[0m\u001b[0;34m\u001b[0m\u001b[0;34m\u001b[0m\u001b[0m\n\u001b[1;32m    439\u001b[0m                 \u001b[0;32mtry\u001b[0m\u001b[0;34m:\u001b[0m\u001b[0;34m\u001b[0m\u001b[0;34m\u001b[0m\u001b[0m\n\u001b[0;32m--> 440\u001b[0;31m                     \u001b[0mhttplib_response\u001b[0m \u001b[0;34m=\u001b[0m \u001b[0mconn\u001b[0m\u001b[0;34m.\u001b[0m\u001b[0mgetresponse\u001b[0m\u001b[0;34m(\u001b[0m\u001b[0;34m)\u001b[0m\u001b[0;34m\u001b[0m\u001b[0;34m\u001b[0m\u001b[0m\n\u001b[0m\u001b[1;32m    441\u001b[0m                 \u001b[0;32mexcept\u001b[0m \u001b[0mBaseException\u001b[0m \u001b[0;32mas\u001b[0m \u001b[0me\u001b[0m\u001b[0;34m:\u001b[0m\u001b[0;34m\u001b[0m\u001b[0;34m\u001b[0m\u001b[0m\n\u001b[1;32m    442\u001b[0m                     \u001b[0;31m# Remove the TypeError from the exception chain in\u001b[0m\u001b[0;34m\u001b[0m\u001b[0;34m\u001b[0m\u001b[0;34m\u001b[0m\u001b[0m\n",
      "\u001b[0;32m~/opt/anaconda3/envs/qchack/lib/python3.7/http/client.py\u001b[0m in \u001b[0;36mgetresponse\u001b[0;34m(self)\u001b[0m\n\u001b[1;32m   1367\u001b[0m         \u001b[0;32mtry\u001b[0m\u001b[0;34m:\u001b[0m\u001b[0;34m\u001b[0m\u001b[0;34m\u001b[0m\u001b[0m\n\u001b[1;32m   1368\u001b[0m             \u001b[0;32mtry\u001b[0m\u001b[0;34m:\u001b[0m\u001b[0;34m\u001b[0m\u001b[0;34m\u001b[0m\u001b[0m\n\u001b[0;32m-> 1369\u001b[0;31m                 \u001b[0mresponse\u001b[0m\u001b[0;34m.\u001b[0m\u001b[0mbegin\u001b[0m\u001b[0;34m(\u001b[0m\u001b[0;34m)\u001b[0m\u001b[0;34m\u001b[0m\u001b[0;34m\u001b[0m\u001b[0m\n\u001b[0m\u001b[1;32m   1370\u001b[0m             \u001b[0;32mexcept\u001b[0m \u001b[0mConnectionError\u001b[0m\u001b[0;34m:\u001b[0m\u001b[0;34m\u001b[0m\u001b[0;34m\u001b[0m\u001b[0m\n\u001b[1;32m   1371\u001b[0m                 \u001b[0mself\u001b[0m\u001b[0;34m.\u001b[0m\u001b[0mclose\u001b[0m\u001b[0;34m(\u001b[0m\u001b[0;34m)\u001b[0m\u001b[0;34m\u001b[0m\u001b[0;34m\u001b[0m\u001b[0m\n",
      "\u001b[0;32m~/opt/anaconda3/envs/qchack/lib/python3.7/http/client.py\u001b[0m in \u001b[0;36mbegin\u001b[0;34m(self)\u001b[0m\n\u001b[1;32m    308\u001b[0m         \u001b[0;31m# read until we get a non-100 response\u001b[0m\u001b[0;34m\u001b[0m\u001b[0;34m\u001b[0m\u001b[0;34m\u001b[0m\u001b[0m\n\u001b[1;32m    309\u001b[0m         \u001b[0;32mwhile\u001b[0m \u001b[0;32mTrue\u001b[0m\u001b[0;34m:\u001b[0m\u001b[0;34m\u001b[0m\u001b[0;34m\u001b[0m\u001b[0m\n\u001b[0;32m--> 310\u001b[0;31m             \u001b[0mversion\u001b[0m\u001b[0;34m,\u001b[0m \u001b[0mstatus\u001b[0m\u001b[0;34m,\u001b[0m \u001b[0mreason\u001b[0m \u001b[0;34m=\u001b[0m \u001b[0mself\u001b[0m\u001b[0;34m.\u001b[0m\u001b[0m_read_status\u001b[0m\u001b[0;34m(\u001b[0m\u001b[0;34m)\u001b[0m\u001b[0;34m\u001b[0m\u001b[0;34m\u001b[0m\u001b[0m\n\u001b[0m\u001b[1;32m    311\u001b[0m             \u001b[0;32mif\u001b[0m \u001b[0mstatus\u001b[0m \u001b[0;34m!=\u001b[0m \u001b[0mCONTINUE\u001b[0m\u001b[0;34m:\u001b[0m\u001b[0;34m\u001b[0m\u001b[0;34m\u001b[0m\u001b[0m\n\u001b[1;32m    312\u001b[0m                 \u001b[0;32mbreak\u001b[0m\u001b[0;34m\u001b[0m\u001b[0;34m\u001b[0m\u001b[0m\n",
      "\u001b[0;32m~/opt/anaconda3/envs/qchack/lib/python3.7/http/client.py\u001b[0m in \u001b[0;36m_read_status\u001b[0;34m(self)\u001b[0m\n\u001b[1;32m    269\u001b[0m \u001b[0;34m\u001b[0m\u001b[0m\n\u001b[1;32m    270\u001b[0m     \u001b[0;32mdef\u001b[0m \u001b[0m_read_status\u001b[0m\u001b[0;34m(\u001b[0m\u001b[0mself\u001b[0m\u001b[0;34m)\u001b[0m\u001b[0;34m:\u001b[0m\u001b[0;34m\u001b[0m\u001b[0;34m\u001b[0m\u001b[0m\n\u001b[0;32m--> 271\u001b[0;31m         \u001b[0mline\u001b[0m \u001b[0;34m=\u001b[0m \u001b[0mstr\u001b[0m\u001b[0;34m(\u001b[0m\u001b[0mself\u001b[0m\u001b[0;34m.\u001b[0m\u001b[0mfp\u001b[0m\u001b[0;34m.\u001b[0m\u001b[0mreadline\u001b[0m\u001b[0;34m(\u001b[0m\u001b[0m_MAXLINE\u001b[0m \u001b[0;34m+\u001b[0m \u001b[0;36m1\u001b[0m\u001b[0;34m)\u001b[0m\u001b[0;34m,\u001b[0m \u001b[0;34m\"iso-8859-1\"\u001b[0m\u001b[0;34m)\u001b[0m\u001b[0;34m\u001b[0m\u001b[0;34m\u001b[0m\u001b[0m\n\u001b[0m\u001b[1;32m    272\u001b[0m         \u001b[0;32mif\u001b[0m \u001b[0mlen\u001b[0m\u001b[0;34m(\u001b[0m\u001b[0mline\u001b[0m\u001b[0;34m)\u001b[0m \u001b[0;34m>\u001b[0m \u001b[0m_MAXLINE\u001b[0m\u001b[0;34m:\u001b[0m\u001b[0;34m\u001b[0m\u001b[0;34m\u001b[0m\u001b[0m\n\u001b[1;32m    273\u001b[0m             \u001b[0;32mraise\u001b[0m \u001b[0mLineTooLong\u001b[0m\u001b[0;34m(\u001b[0m\u001b[0;34m\"status line\"\u001b[0m\u001b[0;34m)\u001b[0m\u001b[0;34m\u001b[0m\u001b[0;34m\u001b[0m\u001b[0m\n",
      "\u001b[0;32m~/opt/anaconda3/envs/qchack/lib/python3.7/socket.py\u001b[0m in \u001b[0;36mreadinto\u001b[0;34m(self, b)\u001b[0m\n\u001b[1;32m    587\u001b[0m         \u001b[0;32mwhile\u001b[0m \u001b[0;32mTrue\u001b[0m\u001b[0;34m:\u001b[0m\u001b[0;34m\u001b[0m\u001b[0;34m\u001b[0m\u001b[0m\n\u001b[1;32m    588\u001b[0m             \u001b[0;32mtry\u001b[0m\u001b[0;34m:\u001b[0m\u001b[0;34m\u001b[0m\u001b[0;34m\u001b[0m\u001b[0m\n\u001b[0;32m--> 589\u001b[0;31m                 \u001b[0;32mreturn\u001b[0m \u001b[0mself\u001b[0m\u001b[0;34m.\u001b[0m\u001b[0m_sock\u001b[0m\u001b[0;34m.\u001b[0m\u001b[0mrecv_into\u001b[0m\u001b[0;34m(\u001b[0m\u001b[0mb\u001b[0m\u001b[0;34m)\u001b[0m\u001b[0;34m\u001b[0m\u001b[0;34m\u001b[0m\u001b[0m\n\u001b[0m\u001b[1;32m    590\u001b[0m             \u001b[0;32mexcept\u001b[0m \u001b[0mtimeout\u001b[0m\u001b[0;34m:\u001b[0m\u001b[0;34m\u001b[0m\u001b[0;34m\u001b[0m\u001b[0m\n\u001b[1;32m    591\u001b[0m                 \u001b[0mself\u001b[0m\u001b[0;34m.\u001b[0m\u001b[0m_timeout_occurred\u001b[0m \u001b[0;34m=\u001b[0m \u001b[0;32mTrue\u001b[0m\u001b[0;34m\u001b[0m\u001b[0;34m\u001b[0m\u001b[0m\n",
      "\u001b[0;32m~/opt/anaconda3/envs/qchack/lib/python3.7/ssl.py\u001b[0m in \u001b[0;36mrecv_into\u001b[0;34m(self, buffer, nbytes, flags)\u001b[0m\n\u001b[1;32m   1069\u001b[0m                   \u001b[0;34m\"non-zero flags not allowed in calls to recv_into() on %s\"\u001b[0m \u001b[0;34m%\u001b[0m\u001b[0;34m\u001b[0m\u001b[0;34m\u001b[0m\u001b[0m\n\u001b[1;32m   1070\u001b[0m                   self.__class__)\n\u001b[0;32m-> 1071\u001b[0;31m             \u001b[0;32mreturn\u001b[0m \u001b[0mself\u001b[0m\u001b[0;34m.\u001b[0m\u001b[0mread\u001b[0m\u001b[0;34m(\u001b[0m\u001b[0mnbytes\u001b[0m\u001b[0;34m,\u001b[0m \u001b[0mbuffer\u001b[0m\u001b[0;34m)\u001b[0m\u001b[0;34m\u001b[0m\u001b[0;34m\u001b[0m\u001b[0m\n\u001b[0m\u001b[1;32m   1072\u001b[0m         \u001b[0;32melse\u001b[0m\u001b[0;34m:\u001b[0m\u001b[0;34m\u001b[0m\u001b[0;34m\u001b[0m\u001b[0m\n\u001b[1;32m   1073\u001b[0m             \u001b[0;32mreturn\u001b[0m \u001b[0msuper\u001b[0m\u001b[0;34m(\u001b[0m\u001b[0;34m)\u001b[0m\u001b[0;34m.\u001b[0m\u001b[0mrecv_into\u001b[0m\u001b[0;34m(\u001b[0m\u001b[0mbuffer\u001b[0m\u001b[0;34m,\u001b[0m \u001b[0mnbytes\u001b[0m\u001b[0;34m,\u001b[0m \u001b[0mflags\u001b[0m\u001b[0;34m)\u001b[0m\u001b[0;34m\u001b[0m\u001b[0;34m\u001b[0m\u001b[0m\n",
      "\u001b[0;32m~/opt/anaconda3/envs/qchack/lib/python3.7/ssl.py\u001b[0m in \u001b[0;36mread\u001b[0;34m(self, len, buffer)\u001b[0m\n\u001b[1;32m    927\u001b[0m         \u001b[0;32mtry\u001b[0m\u001b[0;34m:\u001b[0m\u001b[0;34m\u001b[0m\u001b[0;34m\u001b[0m\u001b[0m\n\u001b[1;32m    928\u001b[0m             \u001b[0;32mif\u001b[0m \u001b[0mbuffer\u001b[0m \u001b[0;32mis\u001b[0m \u001b[0;32mnot\u001b[0m \u001b[0;32mNone\u001b[0m\u001b[0;34m:\u001b[0m\u001b[0;34m\u001b[0m\u001b[0;34m\u001b[0m\u001b[0m\n\u001b[0;32m--> 929\u001b[0;31m                 \u001b[0;32mreturn\u001b[0m \u001b[0mself\u001b[0m\u001b[0;34m.\u001b[0m\u001b[0m_sslobj\u001b[0m\u001b[0;34m.\u001b[0m\u001b[0mread\u001b[0m\u001b[0;34m(\u001b[0m\u001b[0mlen\u001b[0m\u001b[0;34m,\u001b[0m \u001b[0mbuffer\u001b[0m\u001b[0;34m)\u001b[0m\u001b[0;34m\u001b[0m\u001b[0;34m\u001b[0m\u001b[0m\n\u001b[0m\u001b[1;32m    930\u001b[0m             \u001b[0;32melse\u001b[0m\u001b[0;34m:\u001b[0m\u001b[0;34m\u001b[0m\u001b[0;34m\u001b[0m\u001b[0m\n\u001b[1;32m    931\u001b[0m                 \u001b[0;32mreturn\u001b[0m \u001b[0mself\u001b[0m\u001b[0;34m.\u001b[0m\u001b[0m_sslobj\u001b[0m\u001b[0;34m.\u001b[0m\u001b[0mread\u001b[0m\u001b[0;34m(\u001b[0m\u001b[0mlen\u001b[0m\u001b[0;34m)\u001b[0m\u001b[0;34m\u001b[0m\u001b[0;34m\u001b[0m\u001b[0m\n",
      "\u001b[0;31mKeyboardInterrupt\u001b[0m: "
     ]
    }
   ],
   "source": [
    "params=init_params#[ 6.5388117 , 13.36186856]\n",
    "cobyla_options = {'maxiter': 1000, 'disp': True, 'catol': 0.002}\n",
    "res = scipy.optimize.minimize(cost_h, params, method='COBYLA',options=cobyla_options)"
   ]
  },
  {
   "cell_type": "code",
   "execution_count": null,
   "id": "fe98d05e",
   "metadata": {},
   "outputs": [],
   "source": [
    "# decent 20 [ 4.03658917 28.45216669]"
   ]
  },
  {
   "cell_type": "code",
   "execution_count": null,
   "id": "2bf6b2d6",
   "metadata": {},
   "outputs": [],
   "source": [
    "# decent 18 [ 4.03658917 28.45216669]"
   ]
  },
  {
   "cell_type": "code",
   "execution_count": null,
   "id": "a5875668",
   "metadata": {},
   "outputs": [],
   "source": [
    "# complet 10-15 [ 3.93857414 27.49989817]"
   ]
  },
  {
   "cell_type": "code",
   "execution_count": null,
   "id": "6444100a",
   "metadata": {},
   "outputs": [],
   "source": [
    "#10 15 [ 3.95407265 28.37688234]  # grat 15 [ 3.96188359 28.37672627]"
   ]
  },
  {
   "cell_type": "code",
   "execution_count": null,
   "id": "4a93ab0e",
   "metadata": {},
   "outputs": [],
   "source": [
    "#[ 2.95888881 27.47003743]-> greatresults test untill 9[ 3.95407265 27.37688234]"
   ]
  },
  {
   "cell_type": "code",
   "execution_count": null,
   "id": "64f6efdb",
   "metadata": {},
   "outputs": [],
   "source": [
    "#[ 4.95450088 26.25199421] good candidate graeat answer until 7 [ 3.95455002 26.37698498]  #[ 3.95455002 26.37698498]"
   ]
  },
  {
   "cell_type": "code",
   "execution_count": 24,
   "id": "eebaf997",
   "metadata": {},
   "outputs": [
    {
     "data": {
      "text/plain": [
       "     fun: -3.4375\n",
       "   maxcv: 0.0\n",
       " message: 'Optimization terminated successfully.'\n",
       "    nfev: 29\n",
       "  status: 1\n",
       " success: True\n",
       "       x: array([ 3.95450088, 26.25199421])"
      ]
     },
     "execution_count": 24,
     "metadata": {},
     "output_type": "execute_result"
    }
   ],
   "source": [
    "res"
   ]
  },
  {
   "cell_type": "code",
   "execution_count": null,
   "id": "f7757aa5",
   "metadata": {},
   "outputs": [],
   "source": [
    "y_desire=[0.5,0.5,0]\n",
    "            c=np.array(y_desire) @ np.array(y_genrate)"
   ]
  },
  {
   "cell_type": "code",
   "execution_count": 41,
   "id": "320926c8",
   "metadata": {},
   "outputs": [
    {
     "data": {
      "text/plain": [
       "'\\ndef get_pulse(mean,width,segment_count):\\n    pulse=[]\\n    for i in range(0,segment_count):\\n        p=gaussian_pulse(t=i*segmentsize+segmentsize/2, mean=duration/2, width=width)\\n        pulse.append(p)\\n    return pulse \\n'"
      ]
     },
     "execution_count": 41,
     "metadata": {},
     "output_type": "execute_result"
    }
   ],
   "source": [
    "'''\n",
    "def get_pulse(mean,width,segment_count):\n",
    "    pulse=[]\n",
    "    for i in range(0,segment_count):\n",
    "        p=gaussian_pulse(t=i*segmentsize+segmentsize/2, mean=duration/2, width=width)\n",
    "        pulse.append(p)\n",
    "    return pulse \n",
    "'''"
   ]
  },
  {
   "cell_type": "code",
   "execution_count": 110,
   "id": "b8ed3aa8",
   "metadata": {},
   "outputs": [],
   "source": [
    "params= [ 4.03658917 ,28.45216669]#[ 4.03658917 ,28.45216669]#[ 3.93857414, 27.49989817]  #[ 3.96188359, 28.37672627]\n",
    "#cost_h(p)"
   ]
  },
  {
   "cell_type": "code",
   "execution_count": 111,
   "id": "c4afe8b6",
   "metadata": {},
   "outputs": [
    {
     "name": "stdout",
     "output_type": "stream",
     "text": [
      "[0.13916172+0.j 0.13970848+0.j 0.14025296+0.j 0.14079511+0.j\n",
      " 0.14133489+0.j 0.14187225+0.j 0.14240715+0.j 0.14293954+0.j\n",
      " 0.14346939+0.j 0.14399665+0.j 0.14452127+0.j 0.14504322+0.j\n",
      " 0.14556245+0.j 0.14607892+0.j 0.14659259+0.j 0.14710341+0.j\n",
      " 0.14761135+0.j 0.14811635+0.j 0.14861838+0.j 0.1491174 +0.j\n",
      " 0.14961336+0.j 0.15010623+0.j 0.15059595+0.j 0.1510825 +0.j\n",
      " 0.15156582+0.j 0.15204588+0.j 0.15252264+0.j 0.15299606+0.j\n",
      " 0.15346609+0.j 0.1539327 +0.j 0.15439584+0.j 0.15485548+0.j\n",
      " 0.15531158+0.j 0.1557641 +0.j 0.15621299+0.j 0.15665822+0.j\n",
      " 0.15709976+0.j 0.15753755+0.j 0.15797157+0.j 0.15840178+0.j\n",
      " 0.15882814+0.j 0.1592506 +0.j 0.15966914+0.j 0.16008372+0.j\n",
      " 0.1604943 +0.j 0.16090085+0.j 0.16130332+0.j 0.16170169+0.j\n",
      " 0.16209591+0.j 0.16248596+0.j 0.16287179+0.j 0.16325338+0.j\n",
      " 0.16363069+0.j 0.16400368+0.j 0.16437233+0.j 0.16473659+0.j\n",
      " 0.16509644+0.j 0.16545185+0.j 0.16580278+0.j 0.16614919+0.j\n",
      " 0.16649107+0.j 0.16682837+0.j 0.16716107+0.j 0.16748914+0.j\n",
      " 0.16781254+0.j 0.16813125+0.j 0.16844524+0.j 0.16875448+0.j\n",
      " 0.16905894+0.j 0.16935859+0.j 0.16965341+0.j 0.16994337+0.j\n",
      " 0.17022844+0.j 0.1705086 +0.j 0.17078382+0.j 0.17105407+0.j\n",
      " 0.17131933+0.j 0.17157958+0.j 0.17183479+0.j 0.17208493+0.j\n",
      " 0.17233   +0.j 0.17256995+0.j 0.17280477+0.j 0.17303444+0.j\n",
      " 0.17325893+0.j 0.17347823+0.j 0.17369232+0.j 0.17390117+0.j\n",
      " 0.17410476+0.j 0.17430309+0.j 0.17449612+0.j 0.17468383+0.j\n",
      " 0.17486622+0.j 0.17504327+0.j 0.17521495+0.j 0.17538126+0.j\n",
      " 0.17554217+0.j 0.17569768+0.j 0.17584776+0.j 0.1759924 +0.j\n",
      " 0.17613159+0.j 0.17626532+0.j 0.17639357+0.j 0.17651633+0.j\n",
      " 0.1766336 +0.j 0.17674535+0.j 0.17685158+0.j 0.17695227+0.j\n",
      " 0.17704743+0.j 0.17713703+0.j 0.17722108+0.j 0.17729955+0.j\n",
      " 0.17737246+0.j 0.17743978+0.j 0.17750151+0.j 0.17755766+0.j\n",
      " 0.1776082 +0.j 0.17765314+0.j 0.17769247+0.j 0.17772619+0.j\n",
      " 0.17775429+0.j 0.17777678+0.j 0.17779364+0.j 0.17780489+0.j\n",
      " 0.17781051+0.j 0.17781051+0.j 0.17780489+0.j 0.17779364+0.j\n",
      " 0.17777678+0.j 0.17775429+0.j 0.17772619+0.j 0.17769247+0.j\n",
      " 0.17765314+0.j 0.1776082 +0.j 0.17755766+0.j 0.17750151+0.j\n",
      " 0.17743978+0.j 0.17737246+0.j 0.17729955+0.j 0.17722108+0.j\n",
      " 0.17713703+0.j 0.17704743+0.j 0.17695227+0.j 0.17685158+0.j\n",
      " 0.17674535+0.j 0.1766336 +0.j 0.17651633+0.j 0.17639357+0.j\n",
      " 0.17626532+0.j 0.17613159+0.j 0.1759924 +0.j 0.17584776+0.j\n",
      " 0.17569768+0.j 0.17554217+0.j 0.17538126+0.j 0.17521495+0.j\n",
      " 0.17504327+0.j 0.17486622+0.j 0.17468383+0.j 0.17449612+0.j\n",
      " 0.17430309+0.j 0.17410476+0.j 0.17390117+0.j 0.17369232+0.j\n",
      " 0.17347823+0.j 0.17325893+0.j 0.17303444+0.j 0.17280477+0.j\n",
      " 0.17256995+0.j 0.17233   +0.j 0.17208493+0.j 0.17183479+0.j\n",
      " 0.17157958+0.j 0.17131933+0.j 0.17105407+0.j 0.17078382+0.j\n",
      " 0.1705086 +0.j 0.17022844+0.j 0.16994337+0.j 0.16965341+0.j\n",
      " 0.16935859+0.j 0.16905894+0.j 0.16875448+0.j 0.16844524+0.j\n",
      " 0.16813125+0.j 0.16781254+0.j 0.16748914+0.j 0.16716107+0.j\n",
      " 0.16682837+0.j 0.16649107+0.j 0.16614919+0.j 0.16580278+0.j\n",
      " 0.16545185+0.j 0.16509644+0.j 0.16473659+0.j 0.16437233+0.j\n",
      " 0.16400368+0.j 0.16363069+0.j 0.16325338+0.j 0.16287179+0.j\n",
      " 0.16248596+0.j 0.16209591+0.j 0.16170169+0.j 0.16130332+0.j\n",
      " 0.16090085+0.j 0.1604943 +0.j 0.16008372+0.j 0.15966914+0.j\n",
      " 0.1592506 +0.j 0.15882814+0.j 0.15840178+0.j 0.15797157+0.j\n",
      " 0.15753755+0.j 0.15709976+0.j 0.15665822+0.j 0.15621299+0.j\n",
      " 0.1557641 +0.j 0.15531158+0.j 0.15485548+0.j 0.15439584+0.j\n",
      " 0.1539327 +0.j 0.15346609+0.j 0.15299606+0.j 0.15252264+0.j\n",
      " 0.15204588+0.j 0.15156582+0.j 0.1510825 +0.j 0.15059595+0.j\n",
      " 0.15010623+0.j 0.14961336+0.j 0.1491174 +0.j 0.14861838+0.j\n",
      " 0.14811635+0.j 0.14761135+0.j 0.14710341+0.j 0.14659259+0.j\n",
      " 0.14607892+0.j 0.14556245+0.j 0.14504322+0.j 0.14452127+0.j\n",
      " 0.14399665+0.j 0.14346939+0.j 0.14293954+0.j 0.14240715+0.j\n",
      " 0.14187225+0.j 0.14133489+0.j 0.14079511+0.j 0.14025296+0.j\n",
      " 0.13970848+0.j 0.13916172+0.j]\n"
     ]
    }
   ],
   "source": [
    "amplitude=params[0]\n",
    "width=params[1]\n",
    "\n",
    "#\n",
    "mean=duration/2\n",
    "\n",
    "#\n",
    "\n",
    "segmentsize=duration/segment_count\n",
    "\n",
    "pulse_real=get_pulse(mean,width,segment_count)\n",
    "\n",
    "real_part = pulse_real\n",
    "imag_part = np.random.random(size=[segment_count])# if first experiments it will be set to 0\n",
    "\n",
    "values = amplitude * (real_part + 1j * imag_part*0)\n",
    "print(values)"
   ]
  },
  {
   "cell_type": "code",
   "execution_count": 113,
   "id": "64fbe04d",
   "metadata": {},
   "outputs": [],
   "source": [
    "import jsonpickle.ext.numpy as jsonpickle_numpy\n",
    "import jsonpickle\n",
    "import numpy as np\n",
    "\n",
    "jsonpickle_numpy.register_handlers()\n",
    "\n",
    "not_control = {\"duration\": duration, \"value\": values}\n",
    "json_not_control = jsonpickle.encode(not_control)\n",
    "with open(\"h_control.json\", \"w\") as file:\n",
    "    file.write(json_not_control)\n",
    "\n"
   ]
  },
  {
   "cell_type": "code",
   "execution_count": null,
   "id": "0a1ee9d1",
   "metadata": {},
   "outputs": [],
   "source": []
  },
  {
   "cell_type": "code",
   "execution_count": null,
   "id": "0cca3925",
   "metadata": {},
   "outputs": [],
   "source": []
  }
 ],
 "metadata": {
  "kernelspec": {
   "display_name": "Python 3",
   "language": "python",
   "name": "python3"
  },
  "language_info": {
   "codemirror_mode": {
    "name": "ipython",
    "version": 3
   },
   "file_extension": ".py",
   "mimetype": "text/x-python",
   "name": "python",
   "nbconvert_exporter": "python",
   "pygments_lexer": "ipython3",
   "version": "3.7.10"
  }
 },
 "nbformat": 4,
 "nbformat_minor": 5
}
